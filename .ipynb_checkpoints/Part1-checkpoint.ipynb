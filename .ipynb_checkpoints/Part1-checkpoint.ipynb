{
 "cells": [
  {
   "cell_type": "markdown",
   "metadata": {},
   "source": [
    "# 1. Supervised, Semi-Supervised, and Unsupervised Learning"
   ]
  },
  {
   "cell_type": "code",
   "execution_count": 1,
   "metadata": {},
   "outputs": [],
   "source": [
    "import numpy as np\n",
    "import pandas as pd\n",
    "from sklearn.calibration import CalibratedClassifierCV\n",
    "import matplotlib.pyplot as plt\n",
    "%matplotlib inline"
   ]
  },
  {
   "cell_type": "code",
   "execution_count": 2,
   "metadata": {},
   "outputs": [],
   "source": [
    "from sklearn.model_selection import train_test_split\n",
    "from sklearn.svm import LinearSVC\n",
    "from sklearn.model_selection import StratifiedKFold, GridSearchCV\n",
    "from sklearn import metrics\n",
    "from sklearn.utils import shuffle\n",
    "import warnings\n",
    "warnings.filterwarnings(\"ignore\")"
   ]
  },
  {
   "cell_type": "code",
   "execution_count": 3,
   "metadata": {},
   "outputs": [],
   "source": [
    "from tqdm import tqdm\n",
    "from math import log10\n",
    "from sklearn import preprocessing\n",
    "from sklearn import metrics"
   ]
  },
  {
   "cell_type": "code",
   "execution_count": 4,
   "metadata": {},
   "outputs": [],
   "source": [
    "df = pd.read_csv('wbdc.csv')\n",
    "df = df.iloc[:, 1:]"
   ]
  },
  {
   "cell_type": "code",
   "execution_count": null,
   "metadata": {},
   "outputs": [],
   "source": [
    "df.iloc[:, 0] = df.iloc[:, 0].replace({'M' : 1, 'B' : 0})"
   ]
  },
  {
   "cell_type": "code",
   "execution_count": null,
   "metadata": {},
   "outputs": [],
   "source": [
    "df.head()"
   ]
  },
  {
   "cell_type": "markdown",
   "metadata": {},
   "source": [
    "**Important Functions required Later**"
   ]
  },
  {
   "cell_type": "code",
   "execution_count": 7,
   "metadata": {},
   "outputs": [],
   "source": [
    "def train_test_df(df):\n",
    "    df = shuffle(df) \n",
    "    \n",
    "    M_df = df[df['Diagnosis']==1]\n",
    "    B_df = df[df['Diagnosis']==0]\n",
    "    \n",
    "    M_test = M_df.iloc[:int(0.20*len(M_df)), :]\n",
    "    M_train = M_df.iloc[int(0.20*len(M_df)):, :]\n",
    "    \n",
    "    B_test = B_df.iloc[:int(0.20*len(B_df)), :]\n",
    "    B_train = B_df.iloc[int(0.20*len(B_df)):, :]\n",
    "    \n",
    "    train_df = pd.concat([M_train, B_train])\n",
    "    test_df = pd.concat([M_test, B_test])\n",
    "    x_train = train_df.iloc[:, 1:]\n",
    "    y_train = train_df.iloc[:, 0]\n",
    "    x_test = test_df.iloc[:, 1:]\n",
    "    y_test = test_df.iloc[:, 0]\n",
    "    return x_train, y_train, x_test, y_test"
   ]
  },
  {
   "cell_type": "code",
   "execution_count": 8,
   "metadata": {},
   "outputs": [],
   "source": [
    "def roc_curve(model, X_test, y_test):\n",
    "    y_pred = model.predict_proba(X_test)[:, 1]\n",
    "    fpr, tpr, _ = metrics.roc_curve(y_test, y_pred)\n",
    "    auc_ = metrics.auc(fpr, tpr)\n",
    "\n",
    "    plt.figure(figsize=(5, 5))\n",
    "    plt.plot([0.0, 1.0], [0.0, 1.0], 'k--')\n",
    "    plt.xlim([0, 1])\n",
    "    plt.ylim([0, 1.05])\n",
    "    plt.plot(fpr, tpr, label=' (area = {:.3f})'.format(auc_))\n",
    "    plt.xlabel('False Positive rate')\n",
    "    plt.ylabel('True Positive rate')\n",
    "    plt.title('ROC Curve')\n",
    "    plt.legend(loc='lower right')\n",
    "    plt.show()"
   ]
  },
  {
   "cell_type": "code",
   "execution_count": 9,
   "metadata": {},
   "outputs": [],
   "source": [
    "def get_c_range(x_train, y_train):\n",
    "    c_ = np.logspace(-5, 8, 10)\n",
    "    scores = []\n",
    "    for c in c_:\n",
    "        svc = LinearSVC(penalty='l1', C=c, dual=False)\n",
    "        svc.fit(x_train, y_train)\n",
    "        scores.append(svc.score(x_train, y_train))\n",
    "    scores = np.array(scores)\n",
    "    ind = np.argwhere(scores > 0.9).flatten()\n",
    "    c_1 = c_[ind[0]]\n",
    "    c_2 = c_[ind[-1]]\n",
    "    return c_1, c_2"
   ]
  },
  {
   "cell_type": "code",
   "execution_count": 10,
   "metadata": {},
   "outputs": [],
   "source": [
    "def return_results(results):\n",
    "    print('Avg. Train Accuracy {}'.format(np.mean(results.iloc[:, 0])))\n",
    "    print('Avg. Train Precision {}'.format(np.mean(results.iloc[:, 1])))\n",
    "    print('Avg. Train Recall {}'.format(np.mean(results.iloc[:, 2])))\n",
    "    print('Avg. Train F-1 score {}'.format(np.mean(results.iloc[:, 3])))\n",
    "    print('Avg. Train AUC {}'.format(np.mean(results.iloc[:, 4])))\n",
    "\n",
    "    print('\\nTest Accuracy {}'.format(np.mean(results.iloc[:, 5])))\n",
    "    print('Test Precision {}'.format(np.mean(results.iloc[:, 6])))\n",
    "    print('Test Recall {}'.format(np.mean(results.iloc[:, 7])))\n",
    "    print('Test F1 Score {}'.format(np.mean(results.iloc[:, 8])))\n",
    "    print('Test AUC {}'.format(np.mean(results.iloc[:, 9])))"
   ]
  },
  {
   "cell_type": "code",
   "execution_count": 11,
   "metadata": {},
   "outputs": [],
   "source": [
    "def linearSVC(x_train, y_train, scoring):\n",
    "    c_l, c_h = get_c_range(x_train, y_train)\n",
    "    parameters = {'C':np.logspace(log10(c_l), log10(c_h), 20)}\n",
    "\n",
    "    svc = LinearSVC(penalty='l1', dual=False)\n",
    "    kf = StratifiedKFold(n_splits=5, shuffle=True)\n",
    "    clf = GridSearchCV(svc, parameters, cv=kf, scoring=scoring, refit='roc_auc', return_train_score=True)\n",
    "    clf.fit(x_train, y_train)\n",
    "    return clf.best_estimator_, clf.cv_results_"
   ]
  },
  {
   "cell_type": "markdown",
   "metadata": {},
   "source": [
    "**i. Supervised Learning: Train an L1-penalized SVM to classify the data. Use 5 fold cross validation to choose the penalty parameter. Use normalized data. Report the average accuracy, precision, recall, F-score, and AUC, for both training and test sets over your M runs. Plot the ROC and report the confusion matrix for training and testing in one of the runs.**"
   ]
  },
  {
   "cell_type": "code",
   "execution_count": 13,
   "metadata": {},
   "outputs": [
    {
     "name": "stderr",
     "output_type": "stream",
     "text": [
      " 97%|███████████████████████████████████████████████████████████████████████████████▎  | 29/30 [03:19<00:06,  6.25s/it]"
     ]
    },
    {
     "name": "stdout",
     "output_type": "stream",
     "text": [
      "\n",
      "For Run Number 29\n",
      "Train Confusion Matrix\n",
      "[[282   4]\n",
      " [  6 164]]\n"
     ]
    },
    {
     "data": {
      "image/png": "[encoded data removed]",
      "text/plain": [
       "<matplotlib.figure.Figure at 0x25e9f9ecf28>"
      ]
     },
     "metadata": {},
     "output_type": "display_data"
    },
    {
     "name": "stdout",
     "output_type": "stream",
     "text": [
      "\n",
      "Test Confusion Matrix\n",
      "[[64  7]\n",
      " [ 2 40]]\n"
     ]
    },
    {
     "data": {
      "image/png": "[encoded data removed]",
      "text/plain": [
       "<matplotlib.figure.Figure at 0x25ea1ae96a0>"
      ]
     },
     "metadata": {},
     "output_type": "display_data"
    },
    {
     "name": "stderr",
     "output_type": "stream",
     "text": [
      "100%|██████████████████████████████████████████████████████████████████████████████████| 30/30 [03:26<00:00,  6.40s/it]\n"
     ]
    },
    {
     "name": "stdout",
     "output_type": "stream",
     "text": [
      "Avg. Train Accuracy 0.9646666666666666\n",
      "Avg. Train Precision 0.9706666666666665\n",
      "Avg. Train Recall 0.9336666666666668\n",
      "Avg. Train F-1 score 0.9513333333333331\n",
      "Avg. Train AUC 0.9899999999999997\n",
      "\n",
      "Test Accuracy 0.9566666666666668\n",
      "Test Precision 0.9383333333333332\n",
      "Test Recall 0.9463333333333334\n",
      "Test F1 Score 0.9413333333333332\n",
      "Test AUC 0.9540000000000001\n"
     ]
    }
   ],
   "source": [
    "#Use normalized data. Report the average accuracy, precision, recall, F-score, and AUC, for both training and test sets \n",
    "#over your M runs. Plot the ROC and report the confusion matrix for training and testing in one of the runs.\n",
    "results1 = []\n",
    "\n",
    "for i in tqdm(range(30)):\n",
    "    #print('Run Number {}'.format(i))\n",
    "    each = []\n",
    "    x_train, y_train, x_test, y_test = train_test_df(df)\n",
    "    scaler = preprocessing.Normalizer()\n",
    "    x_train_ = scaler.fit_transform(x_train)\n",
    "    x_test_ = scaler.transform(x_test)\n",
    "    \n",
    "    scoring = ['accuracy', 'precision', 'recall', 'f1', 'roc_auc']\n",
    "    sv, results = linearSVC(x_train_, y_train, scoring)\n",
    "    \n",
    "    each.append(round(np.mean(results['mean_train_accuracy']), 2))\n",
    "    each.append(round(np.mean(results['mean_train_precision']), 2))\n",
    "    each.append(round(np.mean(results['mean_train_recall']), 2))\n",
    "    each.append(round(np.mean(results['mean_train_f1']), 2))\n",
    "    each.append(round(np.mean(results['mean_train_roc_auc']), 2))\n",
    "    \n",
    "    # calculating test accuracy\n",
    "    y_pred = sv.predict(x_test_)\n",
    "    \n",
    "    each.append(round(metrics.accuracy_score(y_test, y_pred), 2))\n",
    "    each.append(round(metrics.recall_score(y_test, y_pred), 2))\n",
    "    each.append(round(metrics.precision_score(y_test, y_pred), 2))\n",
    "    each.append(round(metrics.f1_score(y_test, y_pred), 2))\n",
    "    each.append(round(metrics.roc_auc_score(y_test, y_pred), 2))\n",
    "    \n",
    "    #print('Avg. Train Accuracy {}'.format(round(np.mean(results['mean_train_accuracy']), 2)))\n",
    "    #print('Test Accuracy {}'.format(round(metrics.accuracy_score(y_test, y_pred), 2)))\n",
    "    \n",
    "    if(i == 29):\n",
    "        print('\\nFor Run Number {}'.format(i))\n",
    "        kf = StratifiedKFold(n_splits=5, shuffle=True)\n",
    "        calib = CalibratedClassifierCV(sv, cv=kf)\n",
    "        \n",
    "        cnf_train = metrics.confusion_matrix(y_train, sv.predict(x_train_))\n",
    "        print('Train Confusion Matrix')\n",
    "        print(cnf_train)\n",
    "        calib.fit(x_train_, y_train)\n",
    "        roc_curve(calib, x_train_, y_train)\n",
    "\n",
    "        cnf_test = metrics.confusion_matrix(y_test, y_pred)\n",
    "        print('\\nTest Confusion Matrix')\n",
    "        print(cnf_test)\n",
    "        roc_curve(calib, x_test_, y_test)\n",
    "    results1.append(each)\n",
    "\n",
    "pd.DataFrame(results1).to_csv('results11.csv', index=False)\n",
    "return_results(pd.DataFrame(results1))"
   ]
  },
  {
   "cell_type": "markdown",
   "metadata": {},
   "source": [
    "   "
   ]
  },
  {
   "cell_type": "markdown",
   "metadata": {},
   "source": [
    "**ii. Semi-Supervised Learning/ Self-training: select 50% of the positive class along with 50% of the negative class in the training set as labeled data and the rest as unlabelled data. You can select them randomly.** \n",
    "   \n",
    "**A. Train an L1-penalized SVM to classify the labeled data Use normalized data. Choose the penalty parameter using 5 fold cross validation.** \n",
    "   \n",
    "**B. Find the unlabeled data point that is the farthest to the decision boundary of the SVM. Let the SVM label it (ignore its true label), and add it to the labeled data, and retrain the SVM. Continue this process until all unlabeled data are used. Test the final SVM on the test data andthe average accuracy, precision, recall, F-score, and AUC, for both training and test sets over your M runs. Plot the ROC and report the confusion matrix for training and testing in one of the runs.**"
   ]
  },
  {
   "cell_type": "code",
   "execution_count": 14,
   "metadata": {},
   "outputs": [],
   "source": [
    "def train_test_split_df(df):\n",
    "    df = shuffle(df) \n",
    "    M_df = df[df['Diagnosis']==1]\n",
    "    B_df = df[df['Diagnosis']==0]\n",
    "    \n",
    "    M_test = M_df.iloc[:int(0.20*len(M_df)), :]\n",
    "    M_train = M_df.iloc[int(0.20*len(M_df)):, :]\n",
    "    \n",
    "    B_test = B_df.iloc[:int(0.20*len(B_df)), :]\n",
    "    B_train = B_df.iloc[int(0.20*len(B_df)):, :]\n",
    "    \n",
    "    train_df = pd.concat([M_train, B_train])\n",
    "    test_df = pd.concat([M_test, B_test])\n",
    "    return train_df, test_df"
   ]
  },
  {
   "cell_type": "code",
   "execution_count": 15,
   "metadata": {},
   "outputs": [],
   "source": [
    "def lab_unlab_split(df):\n",
    "    df = shuffle(df) \n",
    "    M_df = df[df['Diagnosis']==1]\n",
    "    B_df = df[df['Diagnosis']==0]\n",
    "    \n",
    "    M_test = M_df.iloc[:int(0.50*len(M_df)), :]\n",
    "    M_train = M_df.iloc[int(0.50*len(M_df)):, :]\n",
    "    \n",
    "    B_test = B_df.iloc[:int(0.50*len(B_df)), :]\n",
    "    B_train = B_df.iloc[int(0.50*len(B_df)):, :]\n",
    "    \n",
    "    train_df = pd.concat([M_train, B_train])\n",
    "    test_df = pd.concat([M_test, B_test])\n",
    "    x_train = train_df.iloc[:, :-1]\n",
    "    y_train = train_df.iloc[:, -1]\n",
    "    x_test = test_df.iloc[:, :-1]\n",
    "    y_test = test_df.iloc[:, -1]\n",
    "    \n",
    "    return x_train, y_train, x_test, y_test"
   ]
  },
  {
   "cell_type": "code",
   "execution_count": 16,
   "metadata": {},
   "outputs": [],
   "source": [
    "x_cols = df.columns.values[1:]\n",
    "y_cols = df.columns.values[0]"
   ]
  },
  {
   "cell_type": "code",
   "execution_count": 17,
   "metadata": {},
   "outputs": [],
   "source": [
    "def get_farthest_points(svc, x_test_):\n",
    "    dd = pd.DataFrame(x_test_)\n",
    "    dist = svc.decision_function(x_test_)\n",
    "    #w_norm = np.linalg.norm(svc.coef_)\n",
    "    #dist = y / w_norm\n",
    "    d = np.argmax(dist)\n",
    "    point = svc.predict([dd.iloc[d, :]])\n",
    "    \n",
    "    return d, dd.iloc[d,:], point"
   ]
  },
  {
   "cell_type": "code",
   "execution_count": 19,
   "metadata": {},
   "outputs": [
    {
     "name": "stderr",
     "output_type": "stream",
     "text": [
      "\n",
      "  0%|                                                                                           | 0/30 [00:00<?, ?it/s]\n",
      "  3%|██▌                                                                           | 1/30 [23:03<11:08:51, 1383.84s/it]\n",
      "  7%|█████▏                                                                        | 2/30 [47:45<10:59:26, 1413.10s/it]\n",
      " 10%|███████▌                                                                    | 3/30 [1:09:08<10:18:25, 1374.27s/it]\n",
      " 13%|██████████▎                                                                  | 4/30 [1:29:11<9:33:12, 1322.78s/it]\n",
      " 17%|████████████▊                                                                | 5/30 [1:50:23<9:04:45, 1307.41s/it]\n",
      " 20%|███████████████▍                                                             | 6/30 [2:11:43<8:39:42, 1299.25s/it]\n",
      " 23%|█████████████████▉                                                           | 7/30 [2:33:45<8:20:44, 1306.28s/it]\n",
      " 27%|████████████████████▌                                                        | 8/30 [2:55:49<8:00:50, 1311.39s/it]\n",
      " 30%|███████████████████████                                                      | 9/30 [3:18:25<7:43:40, 1324.79s/it]\n",
      " 33%|█████████████████████████▎                                                  | 10/30 [3:40:06<7:19:12, 1317.63s/it]\n",
      " 37%|███████████████████████████▊                                                | 11/30 [4:01:25<6:53:38, 1306.23s/it]\n",
      " 40%|██████████████████████████████▍                                             | 12/30 [4:22:41<6:29:04, 1296.91s/it]\n",
      " 43%|████████████████████████████████▉                                           | 13/30 [4:45:49<6:15:15, 1324.47s/it]\n",
      " 47%|███████████████████████████████████▍                                        | 14/30 [5:10:07<6:03:49, 1364.35s/it]\n",
      " 50%|██████████████████████████████████████                                      | 15/30 [5:31:35<5:35:24, 1341.61s/it]\n",
      " 53%|████████████████████████████████████████▌                                   | 16/30 [5:57:09<5:26:30, 1399.32s/it]\n",
      " 57%|███████████████████████████████████████████                                 | 17/30 [6:19:12<4:58:13, 1376.38s/it]\n",
      " 60%|█████████████████████████████████████████████▌                              | 18/30 [6:41:04<4:31:25, 1357.11s/it]\n",
      " 63%|████████████████████████████████████████████████▏                           | 19/30 [7:05:26<4:14:35, 1388.64s/it]\n",
      " 67%|██████████████████████████████████████████████████▋                         | 20/30 [7:26:46<3:46:00, 1356.02s/it]\n",
      " 70%|█████████████████████████████████████████████████████▏                      | 21/30 [8:22:19<4:52:19, 1948.87s/it]\n",
      " 73%|███████████████████████████████████████████████████████▋                    | 22/30 [8:45:45<3:58:09, 1786.14s/it]\n",
      " 77%|██████████████████████████████████████████████████████████▎                 | 23/30 [9:09:07<3:14:56, 1670.95s/it]\n",
      " 80%|████████████████████████████████████████████████████████████▊               | 24/30 [9:35:14<2:43:57, 1639.58s/it]\n",
      " 83%|██████████████████████████████████████████████████████████████▌            | 25/30 [10:01:27<2:14:59, 1619.80s/it]\n",
      " 87%|█████████████████████████████████████████████████████████████████          | 26/30 [10:26:47<1:45:59, 1589.82s/it]\n",
      " 90%|███████████████████████████████████████████████████████████████████▌       | 27/30 [10:52:21<1:18:39, 1573.03s/it]\n",
      " 93%|███████████████████████████████████████████████████████████████████████▊     | 28/30 [11:16:50<51:23, 1541.76s/it]\n",
      " 97%|██████████████████████████████████████████████████████████████████████████▍  | 29/30 [11:38:28<24:28, 1468.61s/it]"
     ]
    },
    {
     "name": "stdout",
     "output_type": "stream",
     "text": [
      "\n",
      "For Run Number 29\n",
      "Train Confusion Matrix\n",
      "[[286   0]\n",
      " [135  35]]\n"
     ]
    },
    {
     "data": {
      "image/png": "[encoded data removed]",
      "text/plain": [
       "<matplotlib.figure.Figure at 0x25e9694deb8>"
      ]
     },
     "metadata": {},
     "output_type": "display_data"
    },
    {
     "name": "stdout",
     "output_type": "stream",
     "text": [
      "\n",
      "Test Confusion Matrix\n",
      "[[70  1]\n",
      " [ 3 39]]\n"
     ]
    },
    {
     "data": {
      "image/png": "[encoded data removed]",
      "text/plain": [
       "<matplotlib.figure.Figure at 0x25ea1b784a8>"
      ]
     },
     "metadata": {},
     "output_type": "display_data"
    },
    {
     "name": "stderr",
     "output_type": "stream",
     "text": [
      "\n",
      "100%|█████████████████████████████████████████████████████████████████████████████| 30/30 [11:59:08<00:00, 1400.23s/it]\n"
     ]
    },
    {
     "name": "stdout",
     "output_type": "stream",
     "text": [
      "Avg. Train Accuracy 0.9716666666666666\n",
      "Avg. Train Precision 0.9766666666666666\n",
      "Avg. Train Recall 0.9486666666666667\n",
      "Avg. Train F-1 score 0.9616666666666666\n",
      "Avg. Train AUC 0.9919999999999997\n",
      "\n",
      "Test Accuracy 0.9503333333333334\n",
      "Test Precision 0.9376666666666666\n",
      "Test Recall 0.9313333333333333\n",
      "Test F1 Score 0.9333333333333333\n",
      "Test AUC 0.9476666666666668\n"
     ]
    }
   ],
   "source": [
    "#Use normalized data. Report the average accuracy, precision, recall, F-score, and AUC, for both training and test sets \n",
    "#over your M runs. Plot the ROC and report the confusion matrix for training and testing in one of the runs.\n",
    "results2 = []\n",
    "\n",
    "for i in tqdm(range(30)):\n",
    "    #print('Run Number {}'.format(i))\n",
    "    each = []\n",
    "    \n",
    "    #Divide the initial df into 80-20 test-train\n",
    "    train_d, test_d = train_test_split_df(df)\n",
    "    \n",
    "    x_train_ = train_d.iloc[:, 1:]\n",
    "    y_train = train_d.iloc[:, 0]\n",
    "    x_test_ = test_d.iloc[:, 1:]\n",
    "    y_test = test_d.iloc[:, 0]\n",
    "    \n",
    "    scaler = preprocessing.Normalizer()\n",
    "    \n",
    "    train_data = pd.DataFrame(scaler.fit_transform(x_train_), columns=df.columns.values[1:])\n",
    "    test_data = pd.DataFrame(scaler.transform(x_test_), columns=df.columns.values[1:])\n",
    "    \n",
    "    train_data['Diagnosis'] = [int(i) for i in y_train]\n",
    "    test_data['Diagnosis'] = [int(j) for j in y_test]\n",
    "    \n",
    "    #print(df.shape, train_data.shape, test_data.shape)\n",
    "    \n",
    "    #Concat train data, and divide into 50-50 labelled and unlabelled\n",
    "    #train_data = pd.concat([x_train, y_train])\n",
    "    lab_x, lab_y, unlab_x, unlab_y = lab_unlab_split(train_data)\n",
    "    times = len(unlab_x) + 1\n",
    "    \n",
    "    for j in range(times):\n",
    "        #Use labelled data as your training data and unlabelled data as your test data\n",
    "        #print(lab_x.shape, lab_y.shape, unlab_x.shape, unlab_y.shape)\n",
    "        scoring = ['accuracy', 'precision', 'recall', 'f1', 'roc_auc']\n",
    "        sv, results = linearSVC(lab_x, lab_y, scoring)\n",
    "        \n",
    "        if(j < (times-1)):\n",
    "            d, xx, yy = get_farthest_points(sv, unlab_x)\n",
    "            lab_x = lab_x.append(pd.Series(xx))\n",
    "            lab_y = lab_y.append(pd.Series(yy))\n",
    "            unlab_x.drop(unlab_x.index[d], inplace=True)\n",
    "            unlab_y.drop(unlab_y.index[d], inplace=True)\n",
    "\n",
    "    each.append(round(np.mean(results['mean_train_accuracy']), 2))\n",
    "    each.append(round(np.mean(results['mean_train_precision']), 2))\n",
    "    each.append(round(np.mean(results['mean_train_recall']), 2))\n",
    "    each.append(round(np.mean(results['mean_train_f1']), 2))\n",
    "    each.append(round(np.mean(results['mean_train_roc_auc']), 2))\n",
    "    \n",
    "    # calculating test accuracy\n",
    "    x_test = test_data.iloc[:, :-1]\n",
    "    y_test = test_data.iloc[:, -1]\n",
    "    y_pred = sv.predict(x_test)\n",
    "    \n",
    "    each.append(round(metrics.accuracy_score(y_test, y_pred), 2))\n",
    "    each.append(round(metrics.recall_score(y_test, y_pred), 2))\n",
    "    each.append(round(metrics.precision_score(y_test, y_pred), 2))\n",
    "    each.append(round(metrics.f1_score(y_test, y_pred), 2))\n",
    "    each.append(round(metrics.roc_auc_score(y_test, y_pred), 2))\n",
    "    \n",
    "    #print('Avg. Train Accuracy {}'.format(round(np.mean(results['mean_train_accuracy']), 2)))\n",
    "    #print('Test Accuracy {}'.format(round(metrics.accuracy_score(y_test, y_pred), 2)))\n",
    "    \n",
    "    if(i == 29):\n",
    "        print('\\nFor Run Number {}'.format(i))\n",
    "        kf = StratifiedKFold(n_splits=5, shuffle=True)\n",
    "        calib = CalibratedClassifierCV(sv, cv=kf)\n",
    "        \n",
    "        cnf_train = metrics.confusion_matrix(y_train, sv.predict(x_train))\n",
    "        print('Train Confusion Matrix')\n",
    "        print(cnf_train)\n",
    "        calib.fit(lab_x, lab_y)\n",
    "        roc_curve(calib, lab_x, lab_y)\n",
    "\n",
    "        cnf_test = metrics.confusion_matrix(y_test, y_pred)\n",
    "        print('\\nTest Confusion Matrix')\n",
    "        print(cnf_test)\n",
    "        roc_curve(calib, x_test, y_test)\n",
    "    \n",
    "    results2.append(each)\n",
    "    #print('\\n')\n",
    "\n",
    "pd.DataFrame(results2).to_csv('results12.csv', index=False)\n",
    "return_results(pd.DataFrame(results2))"
   ]
  },
  {
   "cell_type": "markdown",
   "metadata": {},
   "source": [
    "   "
   ]
  },
  {
   "cell_type": "markdown",
   "metadata": {},
   "source": [
    "**iii. Unsupervised Learning: Run k-means algorithm on the whole training set. Ignore the labels of the data, and assume k = 2.**   \n",
    "   \n",
    "**A. Run the k-means algorithm multiple times. Make sure that you initialize the algoritm randomly. How do you make sure that the algorithm was not trapped in a local minimum?**  \n",
    "   \n",
    "**B. Compute the centers of the two clusters and find the closest 30 data points to each center. Read the true labels of those 30 data points and take a majority poll within them. The majority poll becomes the label predicted by k-means for the members of each cluster. Then compare the labels provided by k-means with the true labels of the training data and report the average accuracy, precision, recall, F-score, and AUC over M runs, and ROC and the confusion matrix for one of the runs.** \n",
    "   \n",
    "**C. Classify test data based on their proximity to the centers of the clusters. Report the average accuracy, precision, recall, F-score, and AUC over M runs, and ROC and the confusion matrix for one of the runs for the test data.**"
   ]
  },
  {
   "cell_type": "markdown",
   "metadata": {},
   "source": [
    "With the k-means algorithm, you cannot entirely avoid local minima; you can only try to minimize your chances of getting one.\n",
    "\n",
    "A common hack used by many, and the one that can be done is setting n_init = 100 is to run K-means multiple times and then choosing the run that gives the lowest error. If you run this k^n times and then choose the best out of that, then you WOULD be guaranteed you're finding a global minima, but that's too time consuming to be practical."
   ]
  },
  {
   "cell_type": "code",
   "execution_count": 20,
   "metadata": {},
   "outputs": [],
   "source": [
    "from sklearn.cluster import KMeans"
   ]
  },
  {
   "cell_type": "code",
   "execution_count": 21,
   "metadata": {},
   "outputs": [],
   "source": [
    "def kmeans_transform(kmeans, train_data):\n",
    "    k = kmeans.fit_transform(train_data)\n",
    "    res1 = []\n",
    "    res2 = []\n",
    "\n",
    "    for i in range(len(k)):\n",
    "        each = k[i]\n",
    "        which = np.argmin(each)\n",
    "        if(which==0): res1.append([i, 'cluster1', each[0]])\n",
    "        else: res2.append([i, 'cluster2', each[1]])\n",
    "    \n",
    "    top_cluster1 = pd.DataFrame(res1).sort_values([2], ascending=True)[:30].iloc[:, 0].reset_index(drop=True)\n",
    "    top_cluster2 = pd.DataFrame(res2).sort_values([2], ascending=True)[:30].iloc[:, 0].reset_index(drop=True)\n",
    "    \n",
    "    major_cluster = {'cluster1': {'0':0, '1':0}, 'cluster2': {'0':0, '1':0}}\n",
    "    for p in top_cluster1:\n",
    "        if(y_train[p] == 0):\n",
    "            major_cluster['cluster1']['0'] += 1\n",
    "        else:\n",
    "            major_cluster['cluster1']['1'] += 1\n",
    "\n",
    "    for q in top_cluster2:\n",
    "        if(y_train[q] == 0):\n",
    "            major_cluster['cluster2']['0'] += 1\n",
    "        else:\n",
    "            major_cluster['cluster2']['1'] += 1\n",
    "            \n",
    "    #print(major_cluster)\n",
    "    clust1 = 0 if major_cluster['cluster1']['0'] > major_cluster['cluster1']['1'] else 1\n",
    "    clust2 = 0 if major_cluster['cluster2']['0'] > major_cluster['cluster2']['1'] else 1\n",
    "    \n",
    "    return clust1, clust2"
   ]
  },
  {
   "cell_type": "code",
   "execution_count": 22,
   "metadata": {},
   "outputs": [],
   "source": [
    "def give_scores(y_train, y_pred, y_test, y_pred_test):\n",
    "    each = []\n",
    "    each.append(round(metrics.accuracy_score(y_train, y_pred), 2))\n",
    "    each.append(round(metrics.recall_score(y_train, y_pred), 2))\n",
    "    each.append(round(metrics.precision_score(y_train, y_pred), 2))\n",
    "    each.append(round(metrics.f1_score(y_train, y_pred), 2))\n",
    "    each.append(round(metrics.roc_auc_score(y_train, y_pred), 2))\n",
    "\n",
    "    each.append(round(metrics.accuracy_score(y_test, y_pred_test), 2))\n",
    "    each.append(round(metrics.recall_score(y_test, y_pred_test), 2))\n",
    "    each.append(round(metrics.precision_score(y_test, y_pred_test), 2))\n",
    "    each.append(round(metrics.f1_score(y_test, y_pred_test), 2))\n",
    "    each.append(round(metrics.roc_auc_score(y_test, y_pred_test), 2))\n",
    "\n",
    "    return each"
   ]
  },
  {
   "cell_type": "code",
   "execution_count": 23,
   "metadata": {},
   "outputs": [
    {
     "name": "stderr",
     "output_type": "stream",
     "text": [
      "\n",
      "  0%|                                                                                           | 0/30 [00:00<?, ?it/s]\n",
      "  3%|██▊                                                                                | 1/30 [00:00<00:25,  1.15it/s]\n",
      "  7%|█████▌                                                                             | 2/30 [00:01<00:22,  1.24it/s]\n",
      " 10%|████████▎                                                                          | 3/30 [00:02<00:22,  1.23it/s]\n",
      " 13%|███████████                                                                        | 4/30 [00:03<00:21,  1.21it/s]\n",
      " 17%|█████████████▊                                                                     | 5/30 [00:03<00:19,  1.27it/s]\n",
      " 20%|████████████████▌                                                                  | 6/30 [00:04<00:18,  1.31it/s]\n",
      " 23%|███████████████████▎                                                               | 7/30 [00:05<00:17,  1.35it/s]\n",
      " 27%|██████████████████████▏                                                            | 8/30 [00:06<00:15,  1.38it/s]\n",
      " 30%|████████████████████████▉                                                          | 9/30 [00:06<00:14,  1.42it/s]\n",
      " 33%|███████████████████████████▎                                                      | 10/30 [00:07<00:14,  1.40it/s]\n",
      " 37%|██████████████████████████████                                                    | 11/30 [00:08<00:14,  1.34it/s]\n",
      " 40%|████████████████████████████████▊                                                 | 12/30 [00:08<00:13,  1.32it/s]\n",
      " 43%|███████████████████████████████████▌                                              | 13/30 [00:09<00:13,  1.26it/s]\n",
      " 47%|██████████████████████████████████████▎                                           | 14/30 [00:10<00:12,  1.30it/s]\n",
      " 50%|█████████████████████████████████████████                                         | 15/30 [00:11<00:11,  1.29it/s]\n",
      " 53%|███████████████████████████████████████████▋                                      | 16/30 [00:12<00:10,  1.30it/s]\n",
      " 57%|██████████████████████████████████████████████▍                                   | 17/30 [00:12<00:10,  1.26it/s]\n",
      " 60%|█████████████████████████████████████████████████▏                                | 18/30 [00:13<00:09,  1.31it/s]\n",
      " 63%|███████████████████████████████████████████████████▉                              | 19/30 [00:14<00:08,  1.29it/s]\n",
      " 67%|██████████████████████████████████████████████████████▋                           | 20/30 [00:15<00:07,  1.29it/s]\n",
      " 70%|█████████████████████████████████████████████████████████▍                        | 21/30 [00:15<00:06,  1.37it/s]\n",
      " 73%|████████████████████████████████████████████████████████████▏                     | 22/30 [00:16<00:05,  1.41it/s]\n",
      " 77%|██████████████████████████████████████████████████████████████▊                   | 23/30 [00:17<00:05,  1.35it/s]\n",
      " 80%|█████████████████████████████████████████████████████████████████▌                | 24/30 [00:18<00:04,  1.37it/s]\n",
      " 83%|████████████████████████████████████████████████████████████████████▎             | 25/30 [00:18<00:03,  1.34it/s]\n",
      " 87%|███████████████████████████████████████████████████████████████████████           | 26/30 [00:19<00:03,  1.30it/s]\n",
      " 90%|█████████████████████████████████████████████████████████████████████████▊        | 27/30 [00:20<00:02,  1.26it/s]\n",
      " 93%|████████████████████████████████████████████████████████████████████████████▌     | 28/30 [00:21<00:01,  1.28it/s]\n",
      " 97%|███████████████████████████████████████████████████████████████████████████████▎  | 29/30 [00:22<00:00,  1.29it/s]"
     ]
    },
    {
     "name": "stdout",
     "output_type": "stream",
     "text": [
      "For Run Number 29\n",
      "Train Confusion Matrix\n",
      "[[285   1]\n",
      " [ 68 102]]\n",
      "\n",
      "Test Confusion Matrix\n",
      "[[71  0]\n",
      " [20 22]]\n"
     ]
    },
    {
     "name": "stderr",
     "output_type": "stream",
     "text": [
      "\n",
      "100%|██████████████████████████████████████████████████████████████████████████████████| 30/30 [00:22<00:00,  1.32it/s]\n"
     ]
    },
    {
     "name": "stdout",
     "output_type": "stream",
     "text": [
      "Avg. Train Accuracy 0.853\n",
      "Avg. Train Precision 0.6080000000000001\n",
      "Avg. Train Recall 0.9916666666666664\n",
      "Avg. Train F-1 score 0.7543333333333334\n",
      "Avg. Train AUC 0.8036666666666666\n",
      "\n",
      "Test Accuracy 0.8496666666666666\n",
      "Test Precision 0.5996666666666666\n",
      "Test Recall 0.9933333333333334\n",
      "Test F1 Score 0.7460000000000002\n",
      "Test AUC 0.799\n"
     ]
    }
   ],
   "source": [
    "# report the average accuracy, precision, recall, F-score, and AUC over M runs, \n",
    "#and ROC and the confusion matrix for one of the runs.\n",
    "results3 = []\n",
    "\n",
    "for i in tqdm(range(30)):\n",
    "    #Divide the initial df into 80-20 test-train\n",
    "    train_d, test_d = train_test_split_df(df)\n",
    "    \n",
    "    x_train_ = train_d.iloc[:, 1:].reset_index(drop=True)\n",
    "    y_train = train_d.iloc[:, 0].reset_index(drop=True)\n",
    "    x_test_ = test_d.iloc[:, 1:].reset_index(drop=True)\n",
    "    y_test = test_d.iloc[:, 0].reset_index(drop=True)\n",
    "\n",
    "    scaler = preprocessing.Normalizer()\n",
    "\n",
    "    train_data = pd.DataFrame(scaler.fit_transform(x_train_), columns=df.columns.values[1:])\n",
    "    test_data = pd.DataFrame(scaler.fit_transform(x_test_), columns=df.columns.values[1:])\n",
    "    \n",
    "    train_data = x_train_\n",
    "    test_data = x_test_\n",
    "    \n",
    "    #Initiate the model\n",
    "    kmeans = KMeans(n_clusters=2, init='random', n_init=100)\n",
    "    kmeans.fit(train_data)\n",
    "    \n",
    "    clust1, clust2 = kmeans_transform(kmeans, train_data)\n",
    "    y_pred = pd.DataFrame(kmeans.predict(train_data)).replace({0:clust1, 1:clust2})\n",
    "    y_pred_test = pd.DataFrame(kmeans.predict(test_data)).replace({0:clust1, 1:clust2})\n",
    "    results3.append(give_scores(y_train, y_pred, y_test, y_pred_test))\n",
    "    \n",
    "    if(i == 29):\n",
    "        print('For Run Number {}'.format(i))\n",
    "        #kf = StratifiedKFold(n_splits=5, shuffle=True)\n",
    "        #calib = CalibratedClassifierCV(kmeans, cv=kf)\n",
    "        #calib.fit(train_data, y_train)\n",
    "        \n",
    "        cnf_train = metrics.confusion_matrix(y_train, y_pred)\n",
    "        print('Train Confusion Matrix')\n",
    "        print(cnf_train)\n",
    "        #roc_curve(calib, train_data, y_train)\n",
    "\n",
    "        cnf_test = metrics.confusion_matrix(y_test, y_pred_test)\n",
    "        print('\\nTest Confusion Matrix')\n",
    "        print(cnf_test)\n",
    "        #roc_curve(calib, test_data, y_test)\n",
    "\n",
    "pd.DataFrame(results3).to_csv('results13.csv', index=False)\n",
    "return_results(pd.DataFrame(results3))"
   ]
  },
  {
   "cell_type": "markdown",
   "metadata": {},
   "source": [
    "  "
   ]
  },
  {
   "cell_type": "markdown",
   "metadata": {},
   "source": [
    "**iv. Spectral Clustering: Repeat 1(b)iii using spectral clustering, which is clustering based on kernels. Research what spectral clustering is. Use RBF kernel.**"
   ]
  },
  {
   "cell_type": "code",
   "execution_count": 24,
   "metadata": {},
   "outputs": [],
   "source": [
    "#Invoke a Spectral Embedding and then Run a different KMeans model on it"
   ]
  },
  {
   "cell_type": "code",
   "execution_count": 25,
   "metadata": {},
   "outputs": [],
   "source": [
    "from sklearn.manifold import SpectralEmbedding"
   ]
  },
  {
   "cell_type": "code",
   "execution_count": 26,
   "metadata": {},
   "outputs": [
    {
     "name": "stderr",
     "output_type": "stream",
     "text": [
      "\n",
      "  0%|                                                                                           | 0/30 [00:00<?, ?it/s]\n",
      "  3%|██▊                                                                                | 1/30 [00:01<00:44,  1.53s/it]\n",
      "  7%|█████▌                                                                             | 2/30 [00:02<00:40,  1.44s/it]\n",
      " 10%|████████▎                                                                          | 3/30 [00:03<00:36,  1.37s/it]\n",
      " 13%|███████████                                                                        | 4/30 [00:05<00:36,  1.39s/it]\n",
      " 17%|█████████████▊                                                                     | 5/30 [00:06<00:32,  1.28s/it]\n",
      " 20%|████████████████▌                                                                  | 6/30 [00:07<00:28,  1.20s/it]\n",
      " 23%|███████████████████▎                                                               | 7/30 [00:08<00:29,  1.29s/it]\n",
      " 27%|██████████████████████▏                                                            | 8/30 [00:10<00:31,  1.44s/it]\n",
      " 30%|████████████████████████▉                                                          | 9/30 [00:11<00:28,  1.37s/it]\n",
      " 33%|███████████████████████████▎                                                      | 10/30 [00:13<00:29,  1.46s/it]\n",
      " 37%|██████████████████████████████                                                    | 11/30 [00:15<00:27,  1.45s/it]\n",
      " 40%|████████████████████████████████▊                                                 | 12/30 [00:16<00:24,  1.35s/it]\n",
      " 43%|███████████████████████████████████▌                                              | 13/30 [00:17<00:21,  1.25s/it]\n",
      " 47%|██████████████████████████████████████▎                                           | 14/30 [00:18<00:19,  1.20s/it]\n",
      " 50%|█████████████████████████████████████████                                         | 15/30 [00:19<00:16,  1.12s/it]\n",
      " 53%|███████████████████████████████████████████▋                                      | 16/30 [00:20<00:14,  1.06s/it]\n",
      " 57%|██████████████████████████████████████████████▍                                   | 17/30 [00:21<00:13,  1.04s/it]\n",
      " 60%|█████████████████████████████████████████████████▏                                | 18/30 [00:22<00:12,  1.00s/it]\n",
      " 63%|███████████████████████████████████████████████████▉                              | 19/30 [00:23<00:11,  1.02s/it]\n",
      " 67%|██████████████████████████████████████████████████████▋                           | 20/30 [00:24<00:09,  1.01it/s]\n",
      " 70%|█████████████████████████████████████████████████████████▍                        | 21/30 [00:25<00:09,  1.00s/it]\n",
      " 73%|████████████████████████████████████████████████████████████▏                     | 22/30 [00:25<00:07,  1.03it/s]\n",
      " 77%|██████████████████████████████████████████████████████████████▊                   | 23/30 [00:26<00:06,  1.02it/s]\n",
      " 80%|█████████████████████████████████████████████████████████████████▌                | 24/30 [00:27<00:05,  1.01it/s]\n",
      " 83%|████████████████████████████████████████████████████████████████████▎             | 25/30 [00:29<00:05,  1.08s/it]\n",
      " 87%|███████████████████████████████████████████████████████████████████████           | 26/30 [00:30<00:04,  1.12s/it]\n",
      " 90%|█████████████████████████████████████████████████████████████████████████▊        | 27/30 [00:31<00:03,  1.13s/it]\n",
      " 93%|████████████████████████████████████████████████████████████████████████████▌     | 28/30 [00:32<00:02,  1.14s/it]\n",
      " 97%|███████████████████████████████████████████████████████████████████████████████▎  | 29/30 [00:33<00:01,  1.10s/it]"
     ]
    },
    {
     "name": "stdout",
     "output_type": "stream",
     "text": [
      "For Run Number 29\n",
      "Train Confusion Matrix\n",
      "[[281   5]\n",
      " [ 37 133]]\n",
      "\n",
      "Test Confusion Matrix\n",
      "[[68  3]\n",
      " [ 9 33]]\n"
     ]
    },
    {
     "name": "stderr",
     "output_type": "stream",
     "text": [
      "\n",
      "100%|██████████████████████████████████████████████████████████████████████████████████| 30/30 [00:34<00:00,  1.08s/it]\n"
     ]
    },
    {
     "name": "stdout",
     "output_type": "stream",
     "text": [
      "Avg. Train Accuracy 0.9053333333333333\n",
      "Avg. Train Precision 0.783\n",
      "Avg. Train Recall 0.9536666666666667\n",
      "Avg. Train F-1 score 0.8590000000000001\n",
      "Avg. Train AUC 0.8806666666666666\n",
      "\n",
      "Test Accuracy 0.8933333333333333\n",
      "Test Precision 0.7726666666666667\n",
      "Test Recall 0.9336666666666668\n",
      "Test F1 Score 0.8443333333333333\n",
      "Test AUC 0.8699999999999999\n"
     ]
    }
   ],
   "source": [
    "# report the average accuracy, precision, recall, F-score, and AUC over M runs, \n",
    "#and ROC and the confusion matrix for one of the runs.\n",
    "results4 = []\n",
    "\n",
    "for i in tqdm(range(30)):\n",
    "    #Divide the initial df into 80-20 test-train\n",
    "    train_d, test_d = train_test_split_df(df)\n",
    "    \n",
    "    x_train_ = train_d.iloc[:, 1:].reset_index(drop=True)\n",
    "    y_train = train_d.iloc[:, 0].reset_index(drop=True)\n",
    "    x_test_ = test_d.iloc[:, 1:].reset_index(drop=True)\n",
    "    y_test = test_d.iloc[:, 0].reset_index(drop=True)\n",
    "    \n",
    "    scaler = preprocessing.Normalizer()\n",
    "    x_train_ = pd.DataFrame(scaler.fit_transform(x_train_), columns=df.columns.values[1:])\n",
    "    x_test_ = pd.DataFrame(scaler.transform(x_test_), columns=df.columns.values[1:])\n",
    "    \n",
    "    #Invoking a Spectral Embedding and then invoking a new KMeans model with it\n",
    "    embed = SpectralEmbedding(n_components=2, affinity='rbf')\n",
    "    train_data = embed.fit_transform(x_train_)\n",
    "    test_data = embed.fit_transform(x_test_)\n",
    "    \n",
    "    #Initiate the model\n",
    "    kmeans = KMeans(n_clusters=2, init='random', n_init=100)\n",
    "    kmeans.fit(train_data)\n",
    "    \n",
    "    clust1, clust2 = kmeans_transform(kmeans, train_data)\n",
    "    y_pred = pd.DataFrame(kmeans.predict(train_data)).replace({0:clust1, 1:clust2})\n",
    "    y_pred_test = pd.DataFrame(kmeans.predict(test_data)).replace({0:clust1, 1:clust2})\n",
    "    results4.append(give_scores(y_train, y_pred, y_test, y_pred_test))\n",
    "    \n",
    "    if(i == 29):\n",
    "        print('For Run Number {}'.format(i))\n",
    "        #kf = StratifiedKFold(n_splits=5, shuffle=True)\n",
    "        #calib = CalibratedClassifierCV(kmeans, cv=kf)\n",
    "        #calib.fit(train_data, y_train)\n",
    "        \n",
    "        cnf_train = metrics.confusion_matrix(y_train, y_pred)\n",
    "        print('Train Confusion Matrix')\n",
    "        print(cnf_train)\n",
    "        #roc_curve(calib, train_data, y_train)\n",
    "\n",
    "        cnf_test = metrics.confusion_matrix(y_test, y_pred_test)\n",
    "        print('\\nTest Confusion Matrix')\n",
    "        print(cnf_test)\n",
    "        #roc_curve(calib, test_data, y_test)\n",
    "\n",
    "pd.DataFrame(results4).to_csv('results14.csv', index=False)\n",
    "return_results(pd.DataFrame(results4))"
   ]
  },
  {
   "cell_type": "markdown",
   "metadata": {},
   "source": [
    "  "
   ]
  },
  {
   "cell_type": "markdown",
   "metadata": {},
   "source": [
    "**v. One can expect that supervised learning on the full data set works better than semi-supervised learning with half of the data set labeled.One can expects that unsupervised learning underperforms in such situations. Compare the results you obtained by those methods.**"
   ]
  },
  {
   "cell_type": "code",
   "execution_count": null,
   "metadata": {},
   "outputs": [],
   "source": []
  }
 ],
 "metadata": {
  "kernelspec": {
   "display_name": "Python 2",
   "language": "python",
   "name": "python2"
  },
  "language_info": {
   "codemirror_mode": {
    "name": "ipython",
    "version": 2
   },
   "file_extension": ".py",
   "mimetype": "text/x-python",
   "name": "python",
   "nbconvert_exporter": "python",
   "pygments_lexer": "ipython2",
   "version": "2.7.12"
  }
 },
 "nbformat": 4,
 "nbformat_minor": 2
}
