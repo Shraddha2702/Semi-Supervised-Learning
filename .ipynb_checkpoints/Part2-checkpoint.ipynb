{
 "cells": [
  {
   "cell_type": "code",
   "execution_count": null,
   "metadata": {},
   "outputs": [],
   "source": [
    "import numpy as np\n",
    "import pandas as pd\n",
    "import matplotlib.pyplot as plt\n",
    "%matplotlib inline"
   ]
  },
  {
   "cell_type": "code",
   "execution_count": null,
   "metadata": {},
   "outputs": [],
   "source": [
    "from tqdm import tqdm\n",
    "from math import log10\n",
    "from sklearn import preprocessing\n",
    "from sklearn import metrics"
   ]
  },
  {
   "cell_type": "code",
   "execution_count": null,
   "metadata": {},
   "outputs": [],
   "source": [
    "from sklearn.utils import shuffle\n",
    "import warnings\n",
    "warnings.filterwarnings(\"ignore\")\n",
    "from sklearn.model_selection import train_test_split\n",
    "from sklearn.svm import LinearSVC\n",
    "from sklearn.model_selection import StratifiedKFold, GridSearchCV, KFold"
   ]
  },
  {
   "cell_type": "markdown",
   "metadata": {},
   "source": [
    "2. Active Learning Using Support Vector Machines   \n",
    "   \n",
    "(a) Download the banknote authentication Data Set from: https://archive.ics.uci.edu/ml/datasets/banknote+authentication. Choose 472 data points randomly as the test set, and the remaining 900 points as the training set. This is a\n",
    "binary classification problem."
   ]
  },
  {
   "cell_type": "code",
   "execution_count": null,
   "metadata": {},
   "outputs": [],
   "source": [
    "df = pd.read_csv('dba.csv')"
   ]
  },
  {
   "cell_type": "code",
   "execution_count": null,
   "metadata": {},
   "outputs": [],
   "source": [
    "df.head()"
   ]
  },
  {
   "cell_type": "code",
   "execution_count": null,
   "metadata": {},
   "outputs": [],
   "source": [
    "df = shuffle(df).reset_index(drop=True)\n",
    "test_data = df[:472]\n",
    "train_data = df[472:]\n",
    "print(train_data.shape, test_data.shape)"
   ]
  },
  {
   "cell_type": "code",
   "execution_count": null,
   "metadata": {},
   "outputs": [],
   "source": [
    "def get_c_range(x_train, y_train):\n",
    "    c_ = np.logspace(-5, 8, 10)\n",
    "    scores = []\n",
    "    for c in c_:\n",
    "        svc = LinearSVC(penalty='l1', C=c, dual=False)\n",
    "        svc.fit(x_train, y_train)\n",
    "        scores.append(svc.score(x_train, y_train))\n",
    "    scores = np.array(scores)\n",
    "    ind = np.argwhere(scores > 0.9).flatten()\n",
    "    c_1 = c_[ind[0]]\n",
    "    c_2 = c_[ind[-1]]\n",
    "    return c_1, c_2"
   ]
  },
  {
   "cell_type": "markdown",
   "metadata": {},
   "source": [
    "(b) Repeat each of the following two procedures 50 times. You will have 50 errors for\n",
    "90 SVMs per each procedure.   \n",
    "   \n",
    "i. Train a SVM with a pool of 10 randomly selected data points from the training\n",
    "set using linear kernel and L1 penalty. Select the penalty parameter using\n",
    "10-fold cross validation.2 Repeat this process by adding 10 other randomly\n",
    "selected data points to the pool, until you use all the 900 points. Do NOT\n",
    "replace the samples back into the training set at each step. Calculate the\n",
    "test error for each SVM. You will have 90 SVMs that were trained using 10,\n",
    "20, 30, ... , 900 data points and their 90 test errors. You have implemented\n",
    "passive learning.   "
   ]
  },
  {
   "cell_type": "code",
   "execution_count": null,
   "metadata": {},
   "outputs": [],
   "source": [
    "results = []\n",
    "\n",
    "for i in tqdm(range(1)):\n",
    "    train_data = shuffle(train_data)\n",
    "    test_data = shuffle(test_data)\n",
    "    x_test = test_data.iloc[:, :-1]\n",
    "    y_test = test_data.iloc[:, -1]\n",
    "    \n",
    "    each = []\n",
    "    \n",
    "    for j in range(0, 900, 10):\n",
    "        x_train = train_data.iloc[:10+j, :-1]\n",
    "        y_train = train_data.iloc[:10+j, -1]\n",
    "        #print(x_train.shape, y_train.shape)\n",
    "        \n",
    "        c_l, c_h = get_c_range(x_train, y_train)\n",
    "        parameters = {'C':np.logspace(log10(c_l), log10(c_h), 20)}\n",
    "\n",
    "        svc = LinearSVC(penalty='l1', dual=False)\n",
    "        kf = KFold(n_splits=10, shuffle=True)\n",
    "        clf = GridSearchCV(svc, parameters, cv=kf, scoring='accuracy', return_train_score=True)\n",
    "        clf.fit(x_train, y_train)\n",
    "\n",
    "        #calculating test accuracy\n",
    "        sv = clf.best_estimator_\n",
    "        y_pred = sv.predict(x_test)\n",
    "\n",
    "        each.append(1 - metrics.accuracy_score(y_test, y_pred))\n",
    "        #print('Test Error {}'.format(1 - round(metrics.accuracy_score(y_test, y_pred), 2)))\n",
    "    results.append(np.mean(each))"
   ]
  },
  {
   "cell_type": "markdown",
   "metadata": {},
   "source": [
    "ii. Train a SVM with a pool of 10 randomly selected data points from the training\n",
    "set3 using linear kernel and L1 penalty. Select the parameters of the SVM\n",
    "with 10-fold cross validation. Choose the 10 closest data points in the training\n",
    "set to the hyperplane of the SVM4 and add them to the pool. Do not replace\n",
    "the samples back into the training set. Train a new SVM using the pool.\n",
    "Repeat this process until all training data is used. You will have 90 SVMs\n",
    "that were trained using 10, 20, 30,..., 900 data points and their 90 test errors.\n",
    "You have implemented active learning."
   ]
  },
  {
   "cell_type": "code",
   "execution_count": null,
   "metadata": {},
   "outputs": [],
   "source": [
    "results1 = []\n",
    "\n",
    "for i in tqdm(range(1)):\n",
    "    train_data = shuffle(train_data)\n",
    "    test_data = shuffle(test_data)\n",
    "    \n",
    "    x_train_taken = train_data.iloc[:10, :-1].reset_index(drop=True)\n",
    "    y_train_taken = train_data.iloc[:10, -1].reset_index(drop=True)\n",
    "    train_nottak = train_data.iloc[10:, :].reset_index(drop=True)\n",
    "    \n",
    "    x_test = test_data.iloc[:, :-1]\n",
    "    y_test = test_data.iloc[:, -1]\n",
    "    \n",
    "    each = []\n",
    "    \n",
    "    for j in range(90):\n",
    "        #print(x_train_taken.shape, y_train_taken.shape, train_nottak.shape)\n",
    "        \n",
    "        c_l, c_h = get_c_range(x_train_taken, y_train_taken)\n",
    "        parameters = {'C':np.logspace(log10(c_l), log10(c_h), 20)}\n",
    "\n",
    "        svc = LinearSVC(penalty='l1', dual=False)\n",
    "        kf = KFold(n_splits=10, shuffle=True)\n",
    "        clf = GridSearchCV(svc, parameters, cv=kf, scoring='accuracy', return_train_score=True)\n",
    "        clf.fit(x_train_taken, y_train_taken)\n",
    "\n",
    "        #calculating test accuracy\n",
    "        sv = clf.best_estimator_\n",
    "        \n",
    "        if(j < 89):\n",
    "            dist = sv.decision_function(train_nottak.iloc[:, :-1])\n",
    "            #w_norm = np.linalg.norm(sv.coef_)\n",
    "            #dist = y / w_norm\n",
    "            dist = [abs(each) for each in dist]\n",
    "            train_nottak['dist'] = dist\n",
    "            train_nottak = train_nottak.sort(['dist'], ascending=True)\n",
    "            x_train_taken = x_train_taken.append(train_nottak.iloc[:10, :-2])\n",
    "            y_train_taken = y_train_taken.append(train_nottak.iloc[:10, -2])\n",
    "            train_nottak = train_nottak.iloc[10:, :-1]\n",
    "        \n",
    "        y_pred = sv.predict(x_test)\n",
    "        each.append(round(1 - metrics.accuracy_score(y_test, y_pred), 2))\n",
    "        #print('Test Error {}'.format(1 - round(metrics.accuracy_score(y_test, y_pred), 2)))\n",
    "    results1.append(np.mean(each))"
   ]
  },
  {
   "cell_type": "markdown",
   "metadata": {},
   "source": [
    "(c) Average the 50 test errors for each of the incrementally trained 90 SVMs in 2(b)i\n",
    "and 2(b)ii. By doing so, you are performing a Monte Carlo simulation. Plot\n",
    "average test error versus number of training instances for both active and passive\n",
    "learners on the same figure and report your conclusions. Here, you are actually\n",
    "obtaining a learning curve by Monte-Carlo simulation."
   ]
  },
  {
   "cell_type": "code",
   "execution_count": null,
   "metadata": {},
   "outputs": [],
   "source": [
    "import matplotlib.pyplot as plt"
   ]
  },
  {
   "cell_type": "code",
   "execution_count": null,
   "metadata": {},
   "outputs": [],
   "source": [
    "num_train = range(10, 901, 10)\n",
    "\n",
    "plt.plot(num_train, results, label='passive')\n",
    "plt.plot(num_train, results1, label='active')\n",
    "plt.xlabel('number of training instances')\n",
    "plt.ylabel('average test error')\n",
    "plt.legend()"
   ]
  },
  {
   "cell_type": "code",
   "execution_count": null,
   "metadata": {},
   "outputs": [],
   "source": [
    "diff = results.values - results1.values\n",
    "plt.plot(num_train, diff)\n",
    "plt.xlabel('number of training instances')\n",
    "plt.ylabel('test error difference')"
   ]
  },
  {
   "cell_type": "markdown",
   "metadata": {},
   "source": [
    "Conclusion:\n",
    "\n",
    "When the number of training instances is small, active learners perform better. As the number of training instances increase, passive learners outperform active learners. When the number of training instances is sufficiently large, the performace active learners and passive learners are basicly the same."
   ]
  },
  {
   "cell_type": "code",
   "execution_count": null,
   "metadata": {},
   "outputs": [],
   "source": []
  }
 ],
 "metadata": {
  "kernelspec": {
   "display_name": "Python 3",
   "language": "python",
   "name": "python3"
  },
  "language_info": {
   "codemirror_mode": {
    "name": "ipython",
    "version": 3
   },
   "file_extension": ".py",
   "mimetype": "text/x-python",
   "name": "python",
   "nbconvert_exporter": "python",
   "pygments_lexer": "ipython3",
   "version": "3.5.2"
  }
 },
 "nbformat": 4,
 "nbformat_minor": 2
}
