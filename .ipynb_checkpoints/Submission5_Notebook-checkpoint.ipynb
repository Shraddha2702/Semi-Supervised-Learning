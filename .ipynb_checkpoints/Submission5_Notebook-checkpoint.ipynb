{
 "cells": [
  {
   "cell_type": "markdown",
   "metadata": {
    "colab_type": "text",
    "id": "JUGMvtVAUtDr"
   },
   "source": [
    "# 1. Multi-class and Multi-Label Classification Using Support Vector Machines"
   ]
  },
  {
   "cell_type": "code",
   "execution_count": 1,
   "metadata": {
    "colab": {},
    "colab_type": "code",
    "id": "wsLEulWDUtD7"
   },
   "outputs": [],
   "source": [
    "import random\n",
    "import warnings\n",
    "warnings.filterwarnings(\"ignore\")\n",
    "from sklearn import metrics\n",
    "import pandas as pd\n",
    "import numpy as np\n",
    "from math import log10"
   ]
  },
  {
   "cell_type": "code",
   "execution_count": 2,
   "metadata": {
    "colab": {},
    "colab_type": "code",
    "id": "vNxbxnDlUtDv"
   },
   "outputs": [],
   "source": [
    "import pandas as pd\n",
    "import numpy as np\n",
    "from sklearn import metrics\n",
    "from sklearn.model_selection import train_test_split\n",
    "from imblearn.over_sampling import SMOTE\n",
    "from sklearn.linear_model import LogisticRegression\n",
    "from sklearn.pipeline import Pipeline\n",
    "from sklearn.metrics import accuracy_score\n",
    "from sklearn.multiclass import OneVsRestClassifier"
   ]
  },
  {
   "cell_type": "code",
   "execution_count": 3,
   "metadata": {
    "colab": {},
    "colab_type": "code",
    "id": "c5zCTyysUtE2"
   },
   "outputs": [],
   "source": [
    "from sklearn.metrics import hamming_loss\n",
    "from tqdm import tqdm\n",
    "from statistics import mode\n",
    "from sklearn.cluster import KMeans\n",
    "from scipy.spatial.distance import cdist\n",
    "from sklearn.metrics import silhouette_score\n",
    "from sklearn.metrics import jaccard_similarity_score\n",
    "from sklearn.multioutput import ClassifierChain\n",
    "from sklearn.multioutput import ClassifierChain\n",
    "from sklearn.svm import LinearSVC\n",
    "from sklearn.svm import SVC\n",
    "from sklearn.model_selection import StratifiedKFold\n",
    "from sklearn.model_selection import GridSearchCV\n",
    "from sklearn.metrics import confusion_matrix\n",
    "from sklearn.model_selection import StratifiedKFold"
   ]
  },
  {
   "cell_type": "markdown",
   "metadata": {},
   "source": [
    "### Useful Functions"
   ]
  },
  {
   "cell_type": "code",
   "execution_count": 4,
   "metadata": {
    "colab": {},
    "colab_type": "code",
    "id": "x3HwQQ8lrqgx"
   },
   "outputs": [],
   "source": [
    "def compute_hamming_loss(pred):\n",
    "    hamming_loss = []\n",
    "    for l in categories:\n",
    "        hamming_loss.append(metrics.hamming_loss(test_data[l], pred[l]))\n",
    "    return np.mean(hamming_loss)"
   ]
  },
  {
   "cell_type": "markdown",
   "metadata": {
    "colab_type": "text",
    "id": "mo68t6agUtEZ"
   },
   "source": [
    "### (a) Download the Anuran Calls (MFCCs) Data Set from: https://archive.ics.uci.edu/ml/datasets/Anuran+Calls+%28MFCCs%29. Choose 70% of the data randomly as the training set."
   ]
  },
  {
   "cell_type": "code",
   "execution_count": 8,
   "metadata": {
    "colab": {},
    "colab_type": "code",
    "id": "o5vPCan1UtEc"
   },
   "outputs": [],
   "source": [
    "df = pd.read_csv('data/Frogs_MFCCs.csv')"
   ]
  },
  {
   "cell_type": "code",
   "execution_count": 9,
   "metadata": {
    "colab": {},
    "colab_type": "code",
    "id": "BDIfts-_UtEm"
   },
   "outputs": [],
   "source": [
    "train_data, test_data = train_test_split(df, train_size=0.7, shuffle=True)"
   ]
  },
  {
   "cell_type": "markdown",
   "metadata": {
    "colab_type": "text",
    "id": "D74X_Lf6UtEw"
   },
   "source": [
    "### (b) Each instance has three labels: Families, Genus, and Species. Each of the labels has multiple classes. We wish to solve a multi-class and multi-label problem. One of the most important approaches to multi-class classification is to train a classifier for each label. We first try this approach:"
   ]
  },
  {
   "cell_type": "markdown",
   "metadata": {
    "colab_type": "text",
    "id": "7O-PRy0uUtEz"
   },
   "source": [
    "### i. Research exact match and hamming score/ loss methods for evaluating multi-label classification and use them in evaluating the classifiers in this problem."
   ]
  },
  {
   "cell_type": "code",
   "execution_count": 10,
   "metadata": {
    "colab": {
     "base_uri": "https://localhost:8080/",
     "height": 126
    },
    "colab_type": "code",
    "id": "t_RysFvgUtFA",
    "outputId": "6d11eb80-816e-4e1c-c56a-249aae2e762b",
    "scrolled": false
   },
   "outputs": [
    {
     "data": {
      "text/plain": [
       "array(['MFCCs_ 1', 'MFCCs_ 2', 'MFCCs_ 3', 'MFCCs_ 4', 'MFCCs_ 5',\n",
       "       'MFCCs_ 6', 'MFCCs_ 7', 'MFCCs_ 8', 'MFCCs_ 9', 'MFCCs_10',\n",
       "       'MFCCs_11', 'MFCCs_12', 'MFCCs_13', 'MFCCs_14', 'MFCCs_15',\n",
       "       'MFCCs_16', 'MFCCs_17', 'MFCCs_18', 'MFCCs_19', 'MFCCs_20',\n",
       "       'MFCCs_21', 'MFCCs_22', 'Family', 'Genus', 'Species', 'RecordID'],\n",
       "      dtype=object)"
      ]
     },
     "execution_count": 10,
     "metadata": {},
     "output_type": "execute_result"
    }
   ],
   "source": [
    "df.columns.values"
   ]
  },
  {
   "cell_type": "code",
   "execution_count": 11,
   "metadata": {
    "colab": {},
    "colab_type": "code",
    "id": "LlhJzHOSUtFU"
   },
   "outputs": [],
   "source": [
    "categories = ['Family', 'Genus', 'Species']"
   ]
  },
  {
   "cell_type": "code",
   "execution_count": 12,
   "metadata": {
    "colab": {},
    "colab_type": "code",
    "id": "1nDjoZwKUtFd"
   },
   "outputs": [],
   "source": [
    "x_train = train_data.iloc[:, :-4]\n",
    "x_test = test_data.iloc[:, :-4]\n",
    "y_train = train_data.iloc[:, -4:-1]\n",
    "y_test = test_data.iloc[:, -4:-1]"
   ]
  },
  {
   "cell_type": "code",
   "execution_count": 13,
   "metadata": {
    "colab": {
     "base_uri": "https://localhost:8080/",
     "height": 290
    },
    "colab_type": "code",
    "id": "VFchhYPCUtFn",
    "outputId": "5ffcff3a-affd-4ffc-b90e-2d05b7791994"
   },
   "outputs": [
    {
     "name": "stdout",
     "output_type": "stream",
     "text": [
      "**Processing Family**\n",
      "Hamming Loss is 0.06\n",
      "Exact Match score is 0.94\n",
      "\n",
      "\n",
      "**Processing Genus**\n",
      "Hamming Loss is 0.07\n",
      "Exact Match score is 0.93\n",
      "\n",
      "\n",
      "**Processing Species**\n",
      "Hamming Loss is 0.06\n",
      "Exact Match score is 0.94\n",
      "\n",
      "\n"
     ]
    }
   ],
   "source": [
    "# Using pipeline for applying logistic regression and one vs rest classifier\n",
    "LogReg_pipeline = Pipeline([\n",
    "                ('clf', OneVsRestClassifier(LogisticRegression(solver='sag'), n_jobs=-1)),\n",
    "            ])\n",
    "for category in categories:\n",
    "    print('**Processing {}**'.format(category))\n",
    "    \n",
    "    # Training logistic regression model on train data\n",
    "    LogReg_pipeline.fit(x_train, train_data[category])\n",
    "    \n",
    "    # calculating test accuracy\n",
    "    prediction = LogReg_pipeline.predict(x_test)\n",
    "    print('Hamming Loss is {}'.format(round(hamming_loss(test_data[category], prediction), 2)))\n",
    "    print('Exact Match score is {}'.format(round(accuracy_score(test_data[category], prediction), 2)))\n",
    "    print(\"\\n\")   "
   ]
  },
  {
   "cell_type": "markdown",
   "metadata": {
    "colab_type": "text",
    "id": "BJZEmWiTUtF5"
   },
   "source": [
    "### ii. Train a SVM for each of the labels, using Gaussian kernels and one versus all classifiers. Determine the weight of the SVM penalty and the width of the Gaussian Kernel using 10 fold cross validation. You are welcome to try to solve the problem with both standardized and raw attributes and report the results."
   ]
  },
  {
   "cell_type": "code",
   "execution_count": 5,
   "metadata": {},
   "outputs": [],
   "source": [
    "def get_c_range(x_train, y_train):\n",
    "    c_ = np.logspace(-5, 8, 10)\n",
    "    scores = []\n",
    "    for c in c_:\n",
    "        svc = SVC(kernel='rbf', C=c)\n",
    "        svc.fit(x_train, y_train)\n",
    "        scores.append(svc.score(x_train, y_train))\n",
    "    scores = np.array(scores)\n",
    "    ind = np.argwhere(scores > 0.9).flatten()\n",
    "    c_1 = c_[ind[0]]\n",
    "    c_2 = c_[ind[-1]]\n",
    "    return c_1, c_2"
   ]
  },
  {
   "cell_type": "code",
   "execution_count": 7,
   "metadata": {},
   "outputs": [],
   "source": [
    "def get_gamma_range(x_train, y_train):\n",
    "    gammas = np.append(np.logspace(-4, -1, 10), np.logspace(0, 2, 10))\n",
    "    scores = []\n",
    "    for g in gammas:\n",
    "        svc = SVC(kernel='rbf', gamma=g)\n",
    "        svc.fit(x_train, y_train)\n",
    "        scores.append(svc.score(x_train, y_train))\n",
    "    scores = np.array(scores)\n",
    "    ind = np.argwhere(scores > 0.9).flatten()\n",
    "    g_1 = gammas[ind[0]]\n",
    "    g_2 = gammas[ind[-1]]\n",
    "    return g_1, g_2"
   ]
  },
  {
   "cell_type": "code",
   "execution_count": 15,
   "metadata": {
    "colab": {
     "base_uri": "https://localhost:8080/",
     "height": 35
    },
    "colab_type": "code",
    "id": "VDqFImlTreYW",
    "outputId": "6be5dd03-3d05-4373-a6d4-04fb0aea1208",
    "scrolled": false
   },
   "outputs": [
    {
     "name": "stdout",
     "output_type": "stream",
     "text": [
      "**Processing Family**\n",
      "Best CV Score 0.99\n",
      "Best Parameter {'C': 38.04056104782507, 'gamma': 2.3462288481422626}\n",
      "Precision 1.0\n",
      "Recall 0.98\n",
      "F1 Score 0.99\n",
      "Exact Match score is 0.99\n",
      "\n",
      "\n",
      "\n",
      "**Processing Genus**\n",
      "Best CV Score 0.99\n",
      "Best Parameter {'C': 38.04056104782507, 'gamma': 1.406527242105237}\n",
      "Precision 0.98\n",
      "Recall 0.98\n",
      "F1 Score 0.98\n",
      "Exact Match score is 0.99\n",
      "\n",
      "\n",
      "\n",
      "**Processing Species**\n",
      "Best CV Score 0.99\n",
      "Best Parameter {'C': 5.994842503189409, 'gamma': 1.406527242105237}\n",
      "Precision 0.98\n",
      "Recall 0.98\n",
      "F1 Score 0.98\n",
      "Exact Match score is 0.99\n",
      "\n",
      "\n",
      "\n"
     ]
    }
   ],
   "source": [
    "pred = pd.DataFrame()\n",
    "for category in categories:\n",
    "    print('**Processing {}**'.format(category))\n",
    "    c_l, c_h = get_c_range(x_train, train_data[category])\n",
    "    g_l, g_h = get_gamma_range(x_train, train_data[category])\n",
    "    parameters = {'C':np.logspace(log10(c_l), log10(c_h), 10), \n",
    "              'gamma': np.logspace(log10(g_l), log10(g_h), 10)}\n",
    "    \n",
    "    svc = SVC(kernel='rbf', decision_function_shape='ovr')\n",
    "    kf = StratifiedKFold(n_splits=10, shuffle=True)\n",
    "    clf = GridSearchCV(svc, parameters, cv=kf, scoring='accuracy')\n",
    "    clf.fit(x_train, train_data[category])\n",
    "    print('Best CV Score {}'.format(round(clf.best_score_, 2)))\n",
    "    \n",
    "    # calculating test accuracy\n",
    "    sv = clf.best_estimator_\n",
    "    y_pred = sv.predict(x_test)\n",
    "    y_true = test_data[category]\n",
    "    pred[category] = y_pred\n",
    "    print('Best Parameter {}'.format(clf.best_params_))\n",
    "    print('Precision {}'.format(round(metrics.precision_score(y_true, y_pred, average='macro'), 2)))\n",
    "    print('Recall {}'.format(round(metrics.recall_score(y_true, y_pred, average='macro'), 2)))\n",
    "    print('F1 Score {}'.format(round(metrics.f1_score(y_true, y_pred, average='macro'), 2)))\n",
    "    print('Exact Match score is {}'.format(round(accuracy_score(y_true, y_pred), 2)))\n",
    "    print(\"\\n\\n\")"
   ]
  },
  {
   "cell_type": "code",
   "execution_count": 16,
   "metadata": {
    "colab": {},
    "colab_type": "code",
    "id": "uT_4KgaIrhpD"
   },
   "outputs": [
    {
     "name": "stdout",
     "output_type": "stream",
     "text": [
      "Prediction for Test data:\n",
      "\n"
     ]
    },
    {
     "data": {
      "text/html": [
       "<div>\n",
       "<style scoped>\n",
       "    .dataframe tbody tr th:only-of-type {\n",
       "        vertical-align: middle;\n",
       "    }\n",
       "\n",
       "    .dataframe tbody tr th {\n",
       "        vertical-align: top;\n",
       "    }\n",
       "\n",
       "    .dataframe thead th {\n",
       "        text-align: right;\n",
       "    }\n",
       "</style>\n",
       "<table border=\"1\" class=\"dataframe\">\n",
       "  <thead>\n",
       "    <tr style=\"text-align: right;\">\n",
       "      <th></th>\n",
       "      <th>Family</th>\n",
       "      <th>Genus</th>\n",
       "      <th>Species</th>\n",
       "    </tr>\n",
       "  </thead>\n",
       "  <tbody>\n",
       "    <tr>\n",
       "      <th>0</th>\n",
       "      <td>Leptodactylidae</td>\n",
       "      <td>Adenomera</td>\n",
       "      <td>AdenomeraAndre</td>\n",
       "    </tr>\n",
       "    <tr>\n",
       "      <th>1</th>\n",
       "      <td>Leptodactylidae</td>\n",
       "      <td>Adenomera</td>\n",
       "      <td>AdenomeraHylaedactylus</td>\n",
       "    </tr>\n",
       "    <tr>\n",
       "      <th>2</th>\n",
       "      <td>Hylidae</td>\n",
       "      <td>Hypsiboas</td>\n",
       "      <td>HypsiboasCinerascens</td>\n",
       "    </tr>\n",
       "    <tr>\n",
       "      <th>3</th>\n",
       "      <td>Hylidae</td>\n",
       "      <td>Hypsiboas</td>\n",
       "      <td>HypsiboasCordobae</td>\n",
       "    </tr>\n",
       "    <tr>\n",
       "      <th>4</th>\n",
       "      <td>Dendrobatidae</td>\n",
       "      <td>Ameerega</td>\n",
       "      <td>Ameeregatrivittata</td>\n",
       "    </tr>\n",
       "  </tbody>\n",
       "</table>\n",
       "</div>"
      ],
      "text/plain": [
       "            Family      Genus                 Species\n",
       "0  Leptodactylidae  Adenomera          AdenomeraAndre\n",
       "1  Leptodactylidae  Adenomera  AdenomeraHylaedactylus\n",
       "2          Hylidae  Hypsiboas    HypsiboasCinerascens\n",
       "3          Hylidae  Hypsiboas       HypsiboasCordobae\n",
       "4    Dendrobatidae   Ameerega      Ameeregatrivittata"
      ]
     },
     "execution_count": 16,
     "metadata": {},
     "output_type": "execute_result"
    }
   ],
   "source": [
    "print('Prediction for Test data:\\n')\n",
    "pred.head()"
   ]
  },
  {
   "cell_type": "code",
   "execution_count": 17,
   "metadata": {
    "colab": {},
    "colab_type": "code",
    "id": "7fjMZ7QDUtGu"
   },
   "outputs": [
    {
     "name": "stdout",
     "output_type": "stream",
     "text": [
      "('The hamming loss for Gaussian kernel SVM is', 0.007565230816736143)\n"
     ]
    }
   ],
   "source": [
    "pred = pd.DataFrame(pred)\n",
    "print(\"The hamming loss for Gaussian kernel SVM is\", compute_hamming_loss(pred))"
   ]
  },
  {
   "cell_type": "markdown",
   "metadata": {
    "colab_type": "text",
    "id": "Io9r9rM2UtG5"
   },
   "source": [
    "### iii. Repeat 1(b)ii and L1-penalized SVMs. Remember to standardize the attributes"
   ]
  },
  {
   "cell_type": "code",
   "execution_count": 6,
   "metadata": {},
   "outputs": [],
   "source": [
    "def get_c_range2(x_train, y_train):\n",
    "    c_ = np.logspace(-5, 8, 10)\n",
    "    scores = []\n",
    "    for c in c_:\n",
    "        svc = LinearSVC(penalty='l1', C=c, multi_class='ovr', dual=False)\n",
    "        svc.fit(x_train, y_train)\n",
    "        scores.append(svc.score(x_train, y_train))\n",
    "    scores = np.array(scores)\n",
    "    ind = np.argwhere(scores > 0.9).flatten()\n",
    "    c_1 = c_[ind[0]]\n",
    "    c_2 = c_[ind[-1]]\n",
    "    return c_1, c_2"
   ]
  },
  {
   "cell_type": "code",
   "execution_count": 18,
   "metadata": {
    "colab": {},
    "colab_type": "code",
    "id": "nJIrwBx-UtHQ"
   },
   "outputs": [
    {
     "name": "stdout",
     "output_type": "stream",
     "text": [
      "**Processing Family**\n",
      "Best CV Score 0.93\n",
      "Best Parameter {'C': 41.11829402435833}\n",
      "Precision 0.7\n",
      "Recall 0.7\n",
      "F1 Score 0.7\n",
      "Exact Match score is 0.94\n",
      "\n",
      "\n",
      "\n",
      "**Processing Genus**\n",
      "Best CV Score 0.95\n",
      "Best Parameter {'C': 335.9818286283784}\n",
      "Precision 0.96\n",
      "Recall 0.83\n",
      "F1 Score 0.88\n",
      "Exact Match score is 0.96\n",
      "\n",
      "\n",
      "\n",
      "**Processing Species**\n",
      "Best CV Score 0.95\n",
      "Best Parameter {'C': 5.032159359259993}\n",
      "Precision 0.94\n",
      "Recall 0.89\n",
      "F1 Score 0.91\n",
      "Exact Match score is 0.96\n",
      "\n",
      "\n",
      "\n"
     ]
    }
   ],
   "source": [
    "pred2 = pd.DataFrame()\n",
    "for category in categories:\n",
    "    print('**Processing {}**'.format(category))\n",
    "    c_l, c_h = get_c_range2(x_train, train_data[category])\n",
    "    parameters = {'C':np.logspace(log10(c_l), log10(c_h), 20)}\n",
    "    \n",
    "    svc = LinearSVC(penalty='l1', multi_class='ovr', dual=False)\n",
    "    kf = StratifiedKFold(n_splits=10, shuffle=True)\n",
    "    clf = GridSearchCV(svc, parameters, cv=kf, scoring='accuracy')\n",
    "    clf.fit(x_train, train_data[category])\n",
    "    print('Best CV Score {}'.format(round(clf.best_score_, 2)))\n",
    "    \n",
    "    # calculating test accuracy\n",
    "    sv = clf.best_estimator_\n",
    "    y_pred = sv.predict(x_test)\n",
    "    y_true = test_data[category]\n",
    "    pred2[category] = y_pred\n",
    "    print('Best Parameter {}'.format(clf.best_params_))\n",
    "    print('Precision {}'.format(round(metrics.precision_score(y_true, y_pred, average='macro'), 2)))\n",
    "    print('Recall {}'.format(round(metrics.recall_score(y_true, y_pred, average='macro'), 2)))\n",
    "    print('F1 Score {}'.format(round(metrics.f1_score(y_true, y_pred, average='macro'), 2)))\n",
    "    print('Exact Match score is {}'.format(round(accuracy_score(y_true, y_pred), 2)))\n",
    "    print(\"\\n\\n\")"
   ]
  },
  {
   "cell_type": "code",
   "execution_count": 19,
   "metadata": {
    "colab": {},
    "colab_type": "code",
    "id": "V2h4AU-jUtHb"
   },
   "outputs": [
    {
     "name": "stdout",
     "output_type": "stream",
     "text": [
      "Prediction for Test data:\n",
      "\n"
     ]
    },
    {
     "data": {
      "text/html": [
       "<div>\n",
       "<style scoped>\n",
       "    .dataframe tbody tr th:only-of-type {\n",
       "        vertical-align: middle;\n",
       "    }\n",
       "\n",
       "    .dataframe tbody tr th {\n",
       "        vertical-align: top;\n",
       "    }\n",
       "\n",
       "    .dataframe thead th {\n",
       "        text-align: right;\n",
       "    }\n",
       "</style>\n",
       "<table border=\"1\" class=\"dataframe\">\n",
       "  <thead>\n",
       "    <tr style=\"text-align: right;\">\n",
       "      <th></th>\n",
       "      <th>Family</th>\n",
       "      <th>Genus</th>\n",
       "      <th>Species</th>\n",
       "    </tr>\n",
       "  </thead>\n",
       "  <tbody>\n",
       "    <tr>\n",
       "      <th>0</th>\n",
       "      <td>Leptodactylidae</td>\n",
       "      <td>Adenomera</td>\n",
       "      <td>AdenomeraAndre</td>\n",
       "    </tr>\n",
       "    <tr>\n",
       "      <th>1</th>\n",
       "      <td>Leptodactylidae</td>\n",
       "      <td>Adenomera</td>\n",
       "      <td>AdenomeraHylaedactylus</td>\n",
       "    </tr>\n",
       "    <tr>\n",
       "      <th>2</th>\n",
       "      <td>Hylidae</td>\n",
       "      <td>Hypsiboas</td>\n",
       "      <td>HypsiboasCinerascens</td>\n",
       "    </tr>\n",
       "    <tr>\n",
       "      <th>3</th>\n",
       "      <td>Hylidae</td>\n",
       "      <td>Hypsiboas</td>\n",
       "      <td>HypsiboasCordobae</td>\n",
       "    </tr>\n",
       "    <tr>\n",
       "      <th>4</th>\n",
       "      <td>Dendrobatidae</td>\n",
       "      <td>Ameerega</td>\n",
       "      <td>Ameeregatrivittata</td>\n",
       "    </tr>\n",
       "  </tbody>\n",
       "</table>\n",
       "</div>"
      ],
      "text/plain": [
       "            Family      Genus                 Species\n",
       "0  Leptodactylidae  Adenomera          AdenomeraAndre\n",
       "1  Leptodactylidae  Adenomera  AdenomeraHylaedactylus\n",
       "2          Hylidae  Hypsiboas    HypsiboasCinerascens\n",
       "3          Hylidae  Hypsiboas       HypsiboasCordobae\n",
       "4    Dendrobatidae   Ameerega      Ameeregatrivittata"
      ]
     },
     "execution_count": 19,
     "metadata": {},
     "output_type": "execute_result"
    }
   ],
   "source": [
    "print('Prediction for Test data:\\n')\n",
    "pred2.head()"
   ]
  },
  {
   "cell_type": "code",
   "execution_count": 20,
   "metadata": {
    "colab": {},
    "colab_type": "code",
    "id": "Wn1clz_cUtHo"
   },
   "outputs": [
    {
     "name": "stdout",
     "output_type": "stream",
     "text": [
      "The hamming loss for linear SVM is\n"
     ]
    },
    {
     "data": {
      "text/plain": [
       "0.04570016983171221"
      ]
     },
     "execution_count": 20,
     "metadata": {},
     "output_type": "execute_result"
    }
   ],
   "source": [
    "pred2 = pd.DataFrame(pred2)\n",
    "print(\"The hamming loss for linear SVM is\")\n",
    "compute_hamming_loss(pred2)"
   ]
  },
  {
   "cell_type": "markdown",
   "metadata": {
    "colab_type": "text",
    "id": "xYSymrfiUtHw"
   },
   "source": [
    "### iv. Repeat 1(b)iii by using SMOTE or any other method you know to remedy class imbalance. Report your conclusions about the classifiers you trained."
   ]
  },
  {
   "cell_type": "code",
   "execution_count": 21,
   "metadata": {
    "colab": {},
    "colab_type": "code",
    "id": "AUQM_NcNUtHz"
   },
   "outputs": [
    {
     "name": "stdout",
     "output_type": "stream",
     "text": [
      "**Processing Family**\n",
      "Best CV Score 0.95\n",
      "Best Parameter {'C': 14.38449888287663}\n",
      "Precision 0.74\n",
      "Recall 0.94\n",
      "F1 Score 0.79\n",
      "Exact Match score is 0.93\n",
      "\n",
      "\n",
      "\n",
      "**Processing Genus**\n",
      "Best CV Score 0.95\n",
      "Best Parameter {'C': 22432.475028984205}\n",
      "Precision 0.75\n",
      "Recall 0.92\n",
      "F1 Score 0.8\n",
      "Exact Match score is 0.91\n",
      "\n",
      "\n",
      "\n",
      "**Processing Species**\n",
      "Best CV Score 0.95\n",
      "Best Parameter {'C': 5529.553425383406}\n",
      "Precision 0.89\n",
      "Recall 0.93\n",
      "F1 Score 0.91\n",
      "Exact Match score is 0.96\n",
      "\n",
      "\n",
      "\n"
     ]
    }
   ],
   "source": [
    "sm = SMOTE(random_state=2)\n",
    "\n",
    "pred3 = pd.DataFrame()\n",
    "for category in categories:\n",
    "    print('**Processing {}**'.format(category))\n",
    "    x_train_res, y_train_res = sm.fit_sample(x_train, train_data[category])\n",
    "    \n",
    "    c_l, c_h = get_c_range2(x_train_res, y_train_res)\n",
    "    parameters = {'C':np.logspace(log10(c_l), log10(c_h), 20)}\n",
    "    \n",
    "    svc = LinearSVC(penalty='l1', multi_class='ovr', dual=False)\n",
    "    kf = StratifiedKFold(n_splits=10, shuffle=True)\n",
    "    clf = GridSearchCV(svc, parameters, cv=kf, scoring='accuracy')\n",
    "    clf.fit(x_train_res, y_train_res)\n",
    "    print('Best CV Score {}'.format(round(clf.best_score_, 2)))\n",
    "    \n",
    "    # calculating test accuracy\n",
    "    sv = clf.best_estimator_\n",
    "    y_pred = sv.predict(x_test)\n",
    "    y_true = test_data[category]\n",
    "    pred3[category] = y_pred\n",
    "    print('Best Parameter {}'.format(clf.best_params_))\n",
    "    print('Precision {}'.format(round(metrics.precision_score(y_true, y_pred, average='macro'), 2)))\n",
    "    print('Recall {}'.format(round(metrics.recall_score(y_true, y_pred, average='macro'), 2)))\n",
    "    print('F1 Score {}'.format(round(metrics.f1_score(y_true, y_pred, average='macro'), 2)))\n",
    "    print('Exact Match score is {}'.format(round(accuracy_score(y_true, y_pred), 2)))\n",
    "    print(\"\\n\\n\")"
   ]
  },
  {
   "cell_type": "code",
   "execution_count": 22,
   "metadata": {},
   "outputs": [
    {
     "name": "stdout",
     "output_type": "stream",
     "text": [
      "Prediction for Test data:\n",
      "\n"
     ]
    },
    {
     "data": {
      "text/html": [
       "<div>\n",
       "<style scoped>\n",
       "    .dataframe tbody tr th:only-of-type {\n",
       "        vertical-align: middle;\n",
       "    }\n",
       "\n",
       "    .dataframe tbody tr th {\n",
       "        vertical-align: top;\n",
       "    }\n",
       "\n",
       "    .dataframe thead th {\n",
       "        text-align: right;\n",
       "    }\n",
       "</style>\n",
       "<table border=\"1\" class=\"dataframe\">\n",
       "  <thead>\n",
       "    <tr style=\"text-align: right;\">\n",
       "      <th></th>\n",
       "      <th>Family</th>\n",
       "      <th>Genus</th>\n",
       "      <th>Species</th>\n",
       "    </tr>\n",
       "  </thead>\n",
       "  <tbody>\n",
       "    <tr>\n",
       "      <th>0</th>\n",
       "      <td>Leptodactylidae</td>\n",
       "      <td>Osteocephalus</td>\n",
       "      <td>AdenomeraAndre</td>\n",
       "    </tr>\n",
       "    <tr>\n",
       "      <th>1</th>\n",
       "      <td>Leptodactylidae</td>\n",
       "      <td>Adenomera</td>\n",
       "      <td>AdenomeraHylaedactylus</td>\n",
       "    </tr>\n",
       "    <tr>\n",
       "      <th>2</th>\n",
       "      <td>Hylidae</td>\n",
       "      <td>Hypsiboas</td>\n",
       "      <td>HypsiboasCinerascens</td>\n",
       "    </tr>\n",
       "    <tr>\n",
       "      <th>3</th>\n",
       "      <td>Hylidae</td>\n",
       "      <td>Hypsiboas</td>\n",
       "      <td>HypsiboasCordobae</td>\n",
       "    </tr>\n",
       "    <tr>\n",
       "      <th>4</th>\n",
       "      <td>Dendrobatidae</td>\n",
       "      <td>Ameerega</td>\n",
       "      <td>Ameeregatrivittata</td>\n",
       "    </tr>\n",
       "  </tbody>\n",
       "</table>\n",
       "</div>"
      ],
      "text/plain": [
       "            Family          Genus                 Species\n",
       "0  Leptodactylidae  Osteocephalus          AdenomeraAndre\n",
       "1  Leptodactylidae      Adenomera  AdenomeraHylaedactylus\n",
       "2          Hylidae      Hypsiboas    HypsiboasCinerascens\n",
       "3          Hylidae      Hypsiboas       HypsiboasCordobae\n",
       "4    Dendrobatidae       Ameerega      Ameeregatrivittata"
      ]
     },
     "execution_count": 22,
     "metadata": {},
     "output_type": "execute_result"
    }
   ],
   "source": [
    "print('Prediction for Test data:\\n')\n",
    "pred3.head()"
   ]
  },
  {
   "cell_type": "code",
   "execution_count": 23,
   "metadata": {},
   "outputs": [
    {
     "name": "stdout",
     "output_type": "stream",
     "text": [
      "The hamming loss for linear SVM is\n"
     ]
    },
    {
     "data": {
      "text/plain": [
       "0.06530801296896711"
      ]
     },
     "execution_count": 23,
     "metadata": {},
     "output_type": "execute_result"
    }
   ],
   "source": [
    "pred3 = pd.DataFrame(pred3)\n",
    "print(\"The hamming loss for linear SVM is\")\n",
    "compute_hamming_loss(pred3)"
   ]
  },
  {
   "cell_type": "code",
   "execution_count": null,
   "metadata": {
    "colab": {},
    "colab_type": "code",
    "id": "W7HwOVc-fppk"
   },
   "outputs": [],
   "source": []
  },
  {
   "cell_type": "markdown",
   "metadata": {
    "colab_type": "text",
    "id": "m5Z3rzyDUtIb"
   },
   "source": [
    "# 2. K-Means Clustering on a Multi-Class and Multi-Label Data Set"
   ]
  },
  {
   "cell_type": "markdown",
   "metadata": {
    "colab_type": "text",
    "id": "lx9-Ez2vUtIj"
   },
   "source": [
    "## Monte-Carlo Simulation: Perform the following procedures 50 times, and report the average and standard deviation of the 50 Hamming Distances that you calculate."
   ]
  },
  {
   "cell_type": "markdown",
   "metadata": {
    "colab_type": "text",
    "id": "vbFyOebrUtIn"
   },
   "source": [
    "### (a) Use k-means clustering on the whole Anuran Calls (MFCCs) Data Set (do not split the data into train and test, as we are not performing supervised learning in this exercise). Choose k automatically based on one of the methods provided in the slides (CH or Gap Statistics or scree plots or Silhouettes) or any other method you know."
   ]
  },
  {
   "cell_type": "markdown",
   "metadata": {
    "colab_type": "text",
    "id": "3dgLoIb9UtJf"
   },
   "source": [
    "### (b) In each cluster, determine which family is the majority by reading the true labels. Repeat for genus and species."
   ]
  },
  {
   "cell_type": "markdown",
   "metadata": {
    "colab_type": "text",
    "id": "nIX2qO3DUtJq"
   },
   "source": [
    "### (c) Now for each cluster you have a majority label triplet (family, genus, species). Calculate the average Hamming distance (score) between the true labels and the labels assigned by clusters."
   ]
  },
  {
   "cell_type": "code",
   "execution_count": 37,
   "metadata": {
    "scrolled": false
   },
   "outputs": [
    {
     "name": "stderr",
     "output_type": "stream",
     "text": [
      "\n",
      "  0%|          | 0/50 [00:00<?, ?it/s]\u001b[A\n",
      "  2%|▏         | 1/50 [00:23<18:59, 23.25s/it]\u001b[A"
     ]
    },
    {
     "name": "stdout",
     "output_type": "stream",
     "text": [
      "('The best k is', 4)\n",
      "('Majority labels:', {0: {'Genus': 'Adenomera', 'Species': 'AdenomeraHylaedactylus', 'Family': 'Leptodactylidae'}, 1: {'Genus': 'Ameerega', 'Species': 'Ameeregatrivittata', 'Family': 'Dendrobatidae'}, 2: {'Genus': 'Hypsiboas', 'Species': 'HypsiboasCinerascens', 'Family': 'Hylidae'}, 3: {'Genus': 'Hypsiboas', 'Species': 'HypsiboasCordobae', 'Family': 'Hylidae'}})\n"
     ]
    },
    {
     "name": "stderr",
     "output_type": "stream",
     "text": [
      "\n",
      "  4%|▍         | 2/50 [00:47<18:48, 23.52s/it]\u001b[A"
     ]
    },
    {
     "name": "stdout",
     "output_type": "stream",
     "text": [
      "('The best k is', 4)\n",
      "('Majority labels:', {0: {'Genus': 'Adenomera', 'Species': 'AdenomeraHylaedactylus', 'Family': 'Leptodactylidae'}, 1: {'Genus': 'Ameerega', 'Species': 'Ameeregatrivittata', 'Family': 'Dendrobatidae'}, 2: {'Genus': 'Hypsiboas', 'Species': 'HypsiboasCinerascens', 'Family': 'Hylidae'}, 3: {'Genus': 'Hypsiboas', 'Species': 'HypsiboasCordobae', 'Family': 'Hylidae'}})\n"
     ]
    },
    {
     "name": "stderr",
     "output_type": "stream",
     "text": [
      "\n",
      "  6%|▌         | 3/50 [01:11<18:31, 23.65s/it]\u001b[A"
     ]
    },
    {
     "name": "stdout",
     "output_type": "stream",
     "text": [
      "('The best k is', 4)\n",
      "('Majority labels:', {0: {'Genus': 'Hypsiboas', 'Species': 'HypsiboasCordobae', 'Family': 'Hylidae'}, 1: {'Genus': 'Adenomera', 'Species': 'AdenomeraHylaedactylus', 'Family': 'Leptodactylidae'}, 2: {'Genus': 'Hypsiboas', 'Species': 'HypsiboasCordobae', 'Family': 'Hylidae'}, 3: {'Genus': 'Adenomera', 'Species': 'AdenomeraAndre', 'Family': 'Leptodactylidae'}})\n"
     ]
    },
    {
     "name": "stderr",
     "output_type": "stream",
     "text": [
      "\n",
      "  8%|▊         | 4/50 [01:35<18:15, 23.82s/it]\u001b[A"
     ]
    },
    {
     "name": "stdout",
     "output_type": "stream",
     "text": [
      "('The best k is', 4)\n",
      "('Majority labels:', {0: {'Genus': 'Hypsiboas', 'Species': 'HypsiboasCinerascens', 'Family': 'Hylidae'}, 1: {'Genus': 'Adenomera', 'Species': 'AdenomeraHylaedactylus', 'Family': 'Leptodactylidae'}, 2: {'Genus': 'Ameerega', 'Species': 'Ameeregatrivittata', 'Family': 'Dendrobatidae'}, 3: {'Genus': 'Hypsiboas', 'Species': 'HypsiboasCordobae', 'Family': 'Hylidae'}})\n"
     ]
    },
    {
     "name": "stderr",
     "output_type": "stream",
     "text": [
      "\n",
      " 10%|█         | 5/50 [01:59<17:57, 23.94s/it]\u001b[A"
     ]
    },
    {
     "name": "stdout",
     "output_type": "stream",
     "text": [
      "('The best k is', 4)\n",
      "('Majority labels:', {0: {'Genus': 'Adenomera', 'Species': 'AdenomeraHylaedactylus', 'Family': 'Leptodactylidae'}, 1: {'Genus': 'Hypsiboas', 'Species': 'HypsiboasCordobae', 'Family': 'Hylidae'}, 2: {'Genus': 'Ameerega', 'Species': 'Ameeregatrivittata', 'Family': 'Dendrobatidae'}, 3: {'Genus': 'Hypsiboas', 'Species': 'HypsiboasCinerascens', 'Family': 'Hylidae'}})\n"
     ]
    },
    {
     "name": "stderr",
     "output_type": "stream",
     "text": [
      "\n",
      " 12%|█▏        | 6/50 [02:23<17:31, 23.91s/it]\u001b[A"
     ]
    },
    {
     "name": "stdout",
     "output_type": "stream",
     "text": [
      "('The best k is', 4)\n",
      "('Majority labels:', {0: {'Genus': 'Ameerega', 'Species': 'Ameeregatrivittata', 'Family': 'Dendrobatidae'}, 1: {'Genus': 'Adenomera', 'Species': 'AdenomeraHylaedactylus', 'Family': 'Leptodactylidae'}, 2: {'Genus': 'Hypsiboas', 'Species': 'HypsiboasCinerascens', 'Family': 'Hylidae'}, 3: {'Genus': 'Hypsiboas', 'Species': 'HypsiboasCordobae', 'Family': 'Hylidae'}})\n"
     ]
    },
    {
     "name": "stderr",
     "output_type": "stream",
     "text": [
      "\n",
      " 14%|█▍        | 7/50 [02:47<17:11, 24.00s/it]\u001b[A"
     ]
    },
    {
     "name": "stdout",
     "output_type": "stream",
     "text": [
      "('The best k is', 4)\n",
      "('Majority labels:', {0: {'Genus': 'Ameerega', 'Species': 'Ameeregatrivittata', 'Family': 'Dendrobatidae'}, 1: {'Genus': 'Hypsiboas', 'Species': 'HypsiboasCordobae', 'Family': 'Hylidae'}, 2: {'Genus': 'Adenomera', 'Species': 'AdenomeraHylaedactylus', 'Family': 'Leptodactylidae'}, 3: {'Genus': 'Hypsiboas', 'Species': 'HypsiboasCinerascens', 'Family': 'Hylidae'}})\n"
     ]
    },
    {
     "name": "stderr",
     "output_type": "stream",
     "text": [
      "\n",
      " 16%|█▌        | 8/50 [03:11<16:48, 24.01s/it]\u001b[A"
     ]
    },
    {
     "name": "stdout",
     "output_type": "stream",
     "text": [
      "('The best k is', 4)\n",
      "('Majority labels:', {0: {'Genus': 'Adenomera', 'Species': 'AdenomeraHylaedactylus', 'Family': 'Leptodactylidae'}, 1: {'Genus': 'Ameerega', 'Species': 'Ameeregatrivittata', 'Family': 'Dendrobatidae'}, 2: {'Genus': 'Hypsiboas', 'Species': 'HypsiboasCordobae', 'Family': 'Hylidae'}, 3: {'Genus': 'Hypsiboas', 'Species': 'HypsiboasCinerascens', 'Family': 'Hylidae'}})\n"
     ]
    },
    {
     "name": "stderr",
     "output_type": "stream",
     "text": [
      "\n",
      " 18%|█▊        | 9/50 [03:36<16:27, 24.10s/it]\u001b[A"
     ]
    },
    {
     "name": "stdout",
     "output_type": "stream",
     "text": [
      "('The best k is', 4)\n",
      "('Majority labels:', {0: {'Genus': 'Ameerega', 'Species': 'Ameeregatrivittata', 'Family': 'Dendrobatidae'}, 1: {'Genus': 'Adenomera', 'Species': 'AdenomeraHylaedactylus', 'Family': 'Leptodactylidae'}, 2: {'Genus': 'Hypsiboas', 'Species': 'HypsiboasCordobae', 'Family': 'Hylidae'}, 3: {'Genus': 'Hypsiboas', 'Species': 'HypsiboasCinerascens', 'Family': 'Hylidae'}})\n"
     ]
    },
    {
     "name": "stderr",
     "output_type": "stream",
     "text": [
      "\n",
      " 20%|██        | 10/50 [04:00<16:04, 24.12s/it]\u001b[A"
     ]
    },
    {
     "name": "stdout",
     "output_type": "stream",
     "text": [
      "('The best k is', 4)\n",
      "('Majority labels:', {0: {'Genus': 'Hypsiboas', 'Species': 'HypsiboasCinerascens', 'Family': 'Hylidae'}, 1: {'Genus': 'Adenomera', 'Species': 'AdenomeraHylaedactylus', 'Family': 'Leptodactylidae'}, 2: {'Genus': 'Ameerega', 'Species': 'Ameeregatrivittata', 'Family': 'Dendrobatidae'}, 3: {'Genus': 'Hypsiboas', 'Species': 'HypsiboasCordobae', 'Family': 'Hylidae'}})\n"
     ]
    },
    {
     "name": "stderr",
     "output_type": "stream",
     "text": [
      "\n",
      " 22%|██▏       | 11/50 [04:24<15:40, 24.10s/it]\u001b[A"
     ]
    },
    {
     "name": "stdout",
     "output_type": "stream",
     "text": [
      "('The best k is', 4)\n",
      "('Majority labels:', {0: {'Genus': 'Hypsiboas', 'Species': 'HypsiboasCinerascens', 'Family': 'Hylidae'}, 1: {'Genus': 'Adenomera', 'Species': 'AdenomeraHylaedactylus', 'Family': 'Leptodactylidae'}, 2: {'Genus': 'Hypsiboas', 'Species': 'HypsiboasCordobae', 'Family': 'Hylidae'}, 3: {'Genus': 'Ameerega', 'Species': 'Ameeregatrivittata', 'Family': 'Dendrobatidae'}})\n"
     ]
    },
    {
     "name": "stderr",
     "output_type": "stream",
     "text": [
      "\n",
      " 24%|██▍       | 12/50 [04:48<15:12, 24.01s/it]\u001b[A"
     ]
    },
    {
     "name": "stdout",
     "output_type": "stream",
     "text": [
      "('The best k is', 4)\n",
      "('Majority labels:', {0: {'Genus': 'Adenomera', 'Species': 'AdenomeraHylaedactylus', 'Family': 'Leptodactylidae'}, 1: {'Genus': 'Hypsiboas', 'Species': 'HypsiboasCinerascens', 'Family': 'Hylidae'}, 2: {'Genus': 'Hypsiboas', 'Species': 'HypsiboasCordobae', 'Family': 'Hylidae'}, 3: {'Genus': 'Ameerega', 'Species': 'Ameeregatrivittata', 'Family': 'Dendrobatidae'}})\n"
     ]
    },
    {
     "name": "stderr",
     "output_type": "stream",
     "text": [
      "\n",
      " 26%|██▌       | 13/50 [05:12<14:50, 24.07s/it]\u001b[A"
     ]
    },
    {
     "name": "stdout",
     "output_type": "stream",
     "text": [
      "('The best k is', 4)\n",
      "('Majority labels:', {0: {'Genus': 'Adenomera', 'Species': 'AdenomeraHylaedactylus', 'Family': 'Leptodactylidae'}, 1: {'Genus': 'Hypsiboas', 'Species': 'HypsiboasCinerascens', 'Family': 'Hylidae'}, 2: {'Genus': 'Hypsiboas', 'Species': 'HypsiboasCordobae', 'Family': 'Hylidae'}, 3: {'Genus': 'Ameerega', 'Species': 'Ameeregatrivittata', 'Family': 'Dendrobatidae'}})\n"
     ]
    },
    {
     "name": "stderr",
     "output_type": "stream",
     "text": [
      "\n",
      " 28%|██▊       | 14/50 [05:36<14:27, 24.11s/it]\u001b[A"
     ]
    },
    {
     "name": "stdout",
     "output_type": "stream",
     "text": [
      "('The best k is', 4)\n",
      "('Majority labels:', {0: {'Genus': 'Hypsiboas', 'Species': 'HypsiboasCinerascens', 'Family': 'Hylidae'}, 1: {'Genus': 'Adenomera', 'Species': 'AdenomeraHylaedactylus', 'Family': 'Leptodactylidae'}, 2: {'Genus': 'Hypsiboas', 'Species': 'HypsiboasCordobae', 'Family': 'Hylidae'}, 3: {'Genus': 'Ameerega', 'Species': 'Ameeregatrivittata', 'Family': 'Dendrobatidae'}})\n"
     ]
    },
    {
     "name": "stderr",
     "output_type": "stream",
     "text": [
      "\n",
      " 30%|███       | 15/50 [06:00<14:03, 24.10s/it]\u001b[A"
     ]
    },
    {
     "name": "stdout",
     "output_type": "stream",
     "text": [
      "('The best k is', 4)\n",
      "('Majority labels:', {0: {'Genus': 'Adenomera', 'Species': 'AdenomeraHylaedactylus', 'Family': 'Leptodactylidae'}, 1: {'Genus': 'Hypsiboas', 'Species': 'HypsiboasCinerascens', 'Family': 'Hylidae'}, 2: {'Genus': 'Hypsiboas', 'Species': 'HypsiboasCordobae', 'Family': 'Hylidae'}, 3: {'Genus': 'Hypsiboas', 'Species': 'HypsiboasCordobae', 'Family': 'Hylidae'}})\n"
     ]
    },
    {
     "name": "stderr",
     "output_type": "stream",
     "text": [
      "\n",
      " 32%|███▏      | 16/50 [06:24<13:40, 24.15s/it]\u001b[A"
     ]
    },
    {
     "name": "stdout",
     "output_type": "stream",
     "text": [
      "('The best k is', 4)\n",
      "('Majority labels:', {0: {'Genus': 'Ameerega', 'Species': 'Ameeregatrivittata', 'Family': 'Dendrobatidae'}, 1: {'Genus': 'Adenomera', 'Species': 'AdenomeraHylaedactylus', 'Family': 'Leptodactylidae'}, 2: {'Genus': 'Hypsiboas', 'Species': 'HypsiboasCinerascens', 'Family': 'Hylidae'}, 3: {'Genus': 'Hypsiboas', 'Species': 'HypsiboasCordobae', 'Family': 'Hylidae'}})\n"
     ]
    },
    {
     "name": "stderr",
     "output_type": "stream",
     "text": [
      "\n",
      " 34%|███▍      | 17/50 [06:49<13:16, 24.15s/it]\u001b[A"
     ]
    },
    {
     "name": "stdout",
     "output_type": "stream",
     "text": [
      "('The best k is', 4)\n",
      "('Majority labels:', {0: {'Genus': 'Adenomera', 'Species': 'AdenomeraHylaedactylus', 'Family': 'Leptodactylidae'}, 1: {'Genus': 'Ameerega', 'Species': 'Ameeregatrivittata', 'Family': 'Dendrobatidae'}, 2: {'Genus': 'Hypsiboas', 'Species': 'HypsiboasCordobae', 'Family': 'Hylidae'}, 3: {'Genus': 'Hypsiboas', 'Species': 'HypsiboasCinerascens', 'Family': 'Hylidae'}})\n"
     ]
    },
    {
     "name": "stderr",
     "output_type": "stream",
     "text": [
      "\n",
      " 36%|███▌      | 18/50 [07:13<12:52, 24.15s/it]\u001b[A"
     ]
    },
    {
     "name": "stdout",
     "output_type": "stream",
     "text": [
      "('The best k is', 4)\n",
      "('Majority labels:', {0: {'Genus': 'Ameerega', 'Species': 'Ameeregatrivittata', 'Family': 'Dendrobatidae'}, 1: {'Genus': 'Adenomera', 'Species': 'AdenomeraHylaedactylus', 'Family': 'Leptodactylidae'}, 2: {'Genus': 'Hypsiboas', 'Species': 'HypsiboasCinerascens', 'Family': 'Hylidae'}, 3: {'Genus': 'Hypsiboas', 'Species': 'HypsiboasCordobae', 'Family': 'Hylidae'}})\n"
     ]
    },
    {
     "name": "stderr",
     "output_type": "stream",
     "text": [
      "\n",
      " 38%|███▊      | 19/50 [07:37<12:27, 24.11s/it]\u001b[A"
     ]
    },
    {
     "name": "stdout",
     "output_type": "stream",
     "text": [
      "('The best k is', 4)\n",
      "('Majority labels:', {0: {'Genus': 'Ameerega', 'Species': 'Ameeregatrivittata', 'Family': 'Dendrobatidae'}, 1: {'Genus': 'Hypsiboas', 'Species': 'HypsiboasCordobae', 'Family': 'Hylidae'}, 2: {'Genus': 'Adenomera', 'Species': 'AdenomeraHylaedactylus', 'Family': 'Leptodactylidae'}, 3: {'Genus': 'Hypsiboas', 'Species': 'HypsiboasCinerascens', 'Family': 'Hylidae'}})\n"
     ]
    },
    {
     "name": "stderr",
     "output_type": "stream",
     "text": [
      "\n",
      " 40%|████      | 20/50 [08:01<12:05, 24.19s/it]\u001b[A"
     ]
    },
    {
     "name": "stdout",
     "output_type": "stream",
     "text": [
      "('The best k is', 4)\n",
      "('Majority labels:', {0: {'Genus': 'Adenomera', 'Species': 'AdenomeraHylaedactylus', 'Family': 'Leptodactylidae'}, 1: {'Genus': 'Hypsiboas', 'Species': 'HypsiboasCinerascens', 'Family': 'Hylidae'}, 2: {'Genus': 'Ameerega', 'Species': 'Ameeregatrivittata', 'Family': 'Dendrobatidae'}, 3: {'Genus': 'Hypsiboas', 'Species': 'HypsiboasCordobae', 'Family': 'Hylidae'}})\n"
     ]
    },
    {
     "name": "stderr",
     "output_type": "stream",
     "text": [
      "\n",
      " 42%|████▏     | 21/50 [08:25<11:40, 24.17s/it]\u001b[A"
     ]
    },
    {
     "name": "stdout",
     "output_type": "stream",
     "text": [
      "('The best k is', 4)\n",
      "('Majority labels:', {0: {'Genus': 'Hypsiboas', 'Species': 'HypsiboasCinerascens', 'Family': 'Hylidae'}, 1: {'Genus': 'Hypsiboas', 'Species': 'HypsiboasCordobae', 'Family': 'Hylidae'}, 2: {'Genus': 'Adenomera', 'Species': 'AdenomeraHylaedactylus', 'Family': 'Leptodactylidae'}, 3: {'Genus': 'Ameerega', 'Species': 'Ameeregatrivittata', 'Family': 'Dendrobatidae'}})\n"
     ]
    },
    {
     "name": "stderr",
     "output_type": "stream",
     "text": [
      "\n",
      " 44%|████▍     | 22/50 [08:49<11:12, 24.02s/it]\u001b[A"
     ]
    },
    {
     "name": "stdout",
     "output_type": "stream",
     "text": [
      "('The best k is', 4)\n",
      "('Majority labels:', {0: {'Genus': 'Adenomera', 'Species': 'AdenomeraHylaedactylus', 'Family': 'Leptodactylidae'}, 1: {'Genus': 'Ameerega', 'Species': 'Ameeregatrivittata', 'Family': 'Dendrobatidae'}, 2: {'Genus': 'Hypsiboas', 'Species': 'HypsiboasCinerascens', 'Family': 'Hylidae'}, 3: {'Genus': 'Hypsiboas', 'Species': 'HypsiboasCordobae', 'Family': 'Hylidae'}})\n"
     ]
    },
    {
     "name": "stderr",
     "output_type": "stream",
     "text": [
      "\n",
      " 46%|████▌     | 23/50 [09:13<10:48, 24.03s/it]\u001b[A"
     ]
    },
    {
     "name": "stdout",
     "output_type": "stream",
     "text": [
      "('The best k is', 4)\n",
      "('Majority labels:', {0: {'Genus': 'Adenomera', 'Species': 'AdenomeraHylaedactylus', 'Family': 'Leptodactylidae'}, 1: {'Genus': 'Ameerega', 'Species': 'Ameeregatrivittata', 'Family': 'Dendrobatidae'}, 2: {'Genus': 'Hypsiboas', 'Species': 'HypsiboasCordobae', 'Family': 'Hylidae'}, 3: {'Genus': 'Hypsiboas', 'Species': 'HypsiboasCinerascens', 'Family': 'Hylidae'}})\n"
     ]
    },
    {
     "name": "stderr",
     "output_type": "stream",
     "text": [
      "\n",
      " 48%|████▊     | 24/50 [09:37<10:22, 23.94s/it]\u001b[A"
     ]
    },
    {
     "name": "stdout",
     "output_type": "stream",
     "text": [
      "('The best k is', 4)\n",
      "('Majority labels:', {0: {'Genus': 'Hypsiboas', 'Species': 'HypsiboasCinerascens', 'Family': 'Hylidae'}, 1: {'Genus': 'Adenomera', 'Species': 'AdenomeraHylaedactylus', 'Family': 'Leptodactylidae'}, 2: {'Genus': 'Hypsiboas', 'Species': 'HypsiboasCordobae', 'Family': 'Hylidae'}, 3: {'Genus': 'Ameerega', 'Species': 'Ameeregatrivittata', 'Family': 'Dendrobatidae'}})\n"
     ]
    },
    {
     "name": "stderr",
     "output_type": "stream",
     "text": [
      "\n",
      " 50%|█████     | 25/50 [10:00<09:57, 23.89s/it]\u001b[A"
     ]
    },
    {
     "name": "stdout",
     "output_type": "stream",
     "text": [
      "('The best k is', 4)\n",
      "('Majority labels:', {0: {'Genus': 'Ameerega', 'Species': 'Ameeregatrivittata', 'Family': 'Dendrobatidae'}, 1: {'Genus': 'Adenomera', 'Species': 'AdenomeraHylaedactylus', 'Family': 'Leptodactylidae'}, 2: {'Genus': 'Hypsiboas', 'Species': 'HypsiboasCordobae', 'Family': 'Hylidae'}, 3: {'Genus': 'Hypsiboas', 'Species': 'HypsiboasCinerascens', 'Family': 'Hylidae'}})\n"
     ]
    },
    {
     "name": "stderr",
     "output_type": "stream",
     "text": [
      "\n",
      " 52%|█████▏    | 26/50 [10:24<09:34, 23.92s/it]\u001b[A"
     ]
    },
    {
     "name": "stdout",
     "output_type": "stream",
     "text": [
      "('The best k is', 4)\n",
      "('Majority labels:', {0: {'Genus': 'Adenomera', 'Species': 'AdenomeraHylaedactylus', 'Family': 'Leptodactylidae'}, 1: {'Genus': 'Hypsiboas', 'Species': 'HypsiboasCordobae', 'Family': 'Hylidae'}, 2: {'Genus': 'Ameerega', 'Species': 'Ameeregatrivittata', 'Family': 'Dendrobatidae'}, 3: {'Genus': 'Hypsiboas', 'Species': 'HypsiboasCinerascens', 'Family': 'Hylidae'}})\n"
     ]
    },
    {
     "name": "stderr",
     "output_type": "stream",
     "text": [
      "\n",
      " 54%|█████▍    | 27/50 [10:49<09:11, 23.99s/it]\u001b[A"
     ]
    },
    {
     "name": "stdout",
     "output_type": "stream",
     "text": [
      "('The best k is', 4)\n",
      "('Majority labels:', {0: {'Genus': 'Adenomera', 'Species': 'AdenomeraHylaedactylus', 'Family': 'Leptodactylidae'}, 1: {'Genus': 'Hypsiboas', 'Species': 'HypsiboasCinerascens', 'Family': 'Hylidae'}, 2: {'Genus': 'Adenomera', 'Species': 'AdenomeraAndre', 'Family': 'Leptodactylidae'}, 3: {'Genus': 'Hypsiboas', 'Species': 'HypsiboasCordobae', 'Family': 'Hylidae'}})\n"
     ]
    },
    {
     "name": "stderr",
     "output_type": "stream",
     "text": [
      "\n",
      " 56%|█████▌    | 28/50 [11:13<08:48, 24.01s/it]\u001b[A"
     ]
    },
    {
     "name": "stdout",
     "output_type": "stream",
     "text": [
      "('The best k is', 4)\n",
      "('Majority labels:', {0: {'Genus': 'Ameerega', 'Species': 'Ameeregatrivittata', 'Family': 'Dendrobatidae'}, 1: {'Genus': 'Adenomera', 'Species': 'AdenomeraHylaedactylus', 'Family': 'Leptodactylidae'}, 2: {'Genus': 'Hypsiboas', 'Species': 'HypsiboasCinerascens', 'Family': 'Hylidae'}, 3: {'Genus': 'Hypsiboas', 'Species': 'HypsiboasCordobae', 'Family': 'Hylidae'}})\n"
     ]
    },
    {
     "name": "stderr",
     "output_type": "stream",
     "text": [
      "\n",
      " 58%|█████▊    | 29/50 [11:37<08:24, 24.04s/it]\u001b[A"
     ]
    },
    {
     "name": "stdout",
     "output_type": "stream",
     "text": [
      "('The best k is', 4)\n",
      "('Majority labels:', {0: {'Genus': 'Adenomera', 'Species': 'AdenomeraHylaedactylus', 'Family': 'Leptodactylidae'}, 1: {'Genus': 'Ameerega', 'Species': 'Ameeregatrivittata', 'Family': 'Dendrobatidae'}, 2: {'Genus': 'Hypsiboas', 'Species': 'HypsiboasCinerascens', 'Family': 'Hylidae'}, 3: {'Genus': 'Hypsiboas', 'Species': 'HypsiboasCordobae', 'Family': 'Hylidae'}})\n"
     ]
    },
    {
     "name": "stderr",
     "output_type": "stream",
     "text": [
      "\n",
      " 60%|██████    | 30/50 [12:01<08:00, 24.01s/it]\u001b[A"
     ]
    },
    {
     "name": "stdout",
     "output_type": "stream",
     "text": [
      "('The best k is', 4)\n",
      "('Majority labels:', {0: {'Genus': 'Hypsiboas', 'Species': 'HypsiboasCinerascens', 'Family': 'Hylidae'}, 1: {'Genus': 'Adenomera', 'Species': 'AdenomeraHylaedactylus', 'Family': 'Leptodactylidae'}, 2: {'Genus': 'Hypsiboas', 'Species': 'HypsiboasCordobae', 'Family': 'Hylidae'}, 3: {'Genus': 'Ameerega', 'Species': 'Ameeregatrivittata', 'Family': 'Dendrobatidae'}})\n"
     ]
    },
    {
     "name": "stderr",
     "output_type": "stream",
     "text": [
      "\n",
      " 62%|██████▏   | 31/50 [12:25<07:36, 24.00s/it]\u001b[A"
     ]
    },
    {
     "name": "stdout",
     "output_type": "stream",
     "text": [
      "('The best k is', 4)\n",
      "('Majority labels:', {0: {'Genus': 'Ameerega', 'Species': 'Ameeregatrivittata', 'Family': 'Dendrobatidae'}, 1: {'Genus': 'Adenomera', 'Species': 'AdenomeraHylaedactylus', 'Family': 'Leptodactylidae'}, 2: {'Genus': 'Hypsiboas', 'Species': 'HypsiboasCordobae', 'Family': 'Hylidae'}, 3: {'Genus': 'Hypsiboas', 'Species': 'HypsiboasCinerascens', 'Family': 'Hylidae'}})\n"
     ]
    },
    {
     "name": "stderr",
     "output_type": "stream",
     "text": [
      "\n",
      " 64%|██████▍   | 32/50 [12:49<07:12, 24.05s/it]\u001b[A"
     ]
    },
    {
     "name": "stdout",
     "output_type": "stream",
     "text": [
      "('The best k is', 4)\n",
      "('Majority labels:', {0: {'Genus': 'Adenomera', 'Species': 'AdenomeraHylaedactylus', 'Family': 'Leptodactylidae'}, 1: {'Genus': 'Ameerega', 'Species': 'Ameeregatrivittata', 'Family': 'Dendrobatidae'}, 2: {'Genus': 'Hypsiboas', 'Species': 'HypsiboasCinerascens', 'Family': 'Hylidae'}, 3: {'Genus': 'Hypsiboas', 'Species': 'HypsiboasCordobae', 'Family': 'Hylidae'}})\n"
     ]
    },
    {
     "name": "stderr",
     "output_type": "stream",
     "text": [
      "\n",
      " 66%|██████▌   | 33/50 [13:13<06:49, 24.06s/it]\u001b[A"
     ]
    },
    {
     "name": "stdout",
     "output_type": "stream",
     "text": [
      "('The best k is', 4)\n",
      "('Majority labels:', {0: {'Genus': 'Adenomera', 'Species': 'AdenomeraHylaedactylus', 'Family': 'Leptodactylidae'}, 1: {'Genus': 'Hypsiboas', 'Species': 'HypsiboasCordobae', 'Family': 'Hylidae'}, 2: {'Genus': 'Hypsiboas', 'Species': 'HypsiboasCinerascens', 'Family': 'Hylidae'}, 3: {'Genus': 'Ameerega', 'Species': 'Ameeregatrivittata', 'Family': 'Dendrobatidae'}})\n"
     ]
    },
    {
     "name": "stderr",
     "output_type": "stream",
     "text": [
      "\n",
      " 68%|██████▊   | 34/50 [13:37<06:25, 24.07s/it]\u001b[A"
     ]
    },
    {
     "name": "stdout",
     "output_type": "stream",
     "text": [
      "('The best k is', 4)\n",
      "('Majority labels:', {0: {'Genus': 'Hypsiboas', 'Species': 'HypsiboasCinerascens', 'Family': 'Hylidae'}, 1: {'Genus': 'Adenomera', 'Species': 'AdenomeraHylaedactylus', 'Family': 'Leptodactylidae'}, 2: {'Genus': 'Hypsiboas', 'Species': 'HypsiboasCordobae', 'Family': 'Hylidae'}, 3: {'Genus': 'Ameerega', 'Species': 'Ameeregatrivittata', 'Family': 'Dendrobatidae'}})\n"
     ]
    },
    {
     "name": "stderr",
     "output_type": "stream",
     "text": [
      "\n",
      " 70%|███████   | 35/50 [14:01<06:00, 24.06s/it]\u001b[A"
     ]
    },
    {
     "name": "stdout",
     "output_type": "stream",
     "text": [
      "('The best k is', 4)\n",
      "('Majority labels:', {0: {'Genus': 'Adenomera', 'Species': 'AdenomeraHylaedactylus', 'Family': 'Leptodactylidae'}, 1: {'Genus': 'Ameerega', 'Species': 'Ameeregatrivittata', 'Family': 'Dendrobatidae'}, 2: {'Genus': 'Hypsiboas', 'Species': 'HypsiboasCordobae', 'Family': 'Hylidae'}, 3: {'Genus': 'Hypsiboas', 'Species': 'HypsiboasCinerascens', 'Family': 'Hylidae'}})\n"
     ]
    },
    {
     "name": "stderr",
     "output_type": "stream",
     "text": [
      "\n",
      " 72%|███████▏  | 36/50 [14:25<05:36, 24.04s/it]\u001b[A"
     ]
    },
    {
     "name": "stdout",
     "output_type": "stream",
     "text": [
      "('The best k is', 4)\n",
      "('Majority labels:', {0: {'Genus': 'Adenomera', 'Species': 'AdenomeraHylaedactylus', 'Family': 'Leptodactylidae'}, 1: {'Genus': 'Hypsiboas', 'Species': 'HypsiboasCordobae', 'Family': 'Hylidae'}, 2: {'Genus': 'Ameerega', 'Species': 'Ameeregatrivittata', 'Family': 'Dendrobatidae'}, 3: {'Genus': 'Hypsiboas', 'Species': 'HypsiboasCinerascens', 'Family': 'Hylidae'}})\n"
     ]
    },
    {
     "name": "stderr",
     "output_type": "stream",
     "text": [
      "\n",
      " 74%|███████▍  | 37/50 [14:49<05:11, 23.95s/it]\u001b[A"
     ]
    },
    {
     "name": "stdout",
     "output_type": "stream",
     "text": [
      "('The best k is', 4)\n",
      "('Majority labels:', {0: {'Genus': 'Adenomera', 'Species': 'AdenomeraHylaedactylus', 'Family': 'Leptodactylidae'}, 1: {'Genus': 'Hypsiboas', 'Species': 'HypsiboasCordobae', 'Family': 'Hylidae'}, 2: {'Genus': 'Hypsiboas', 'Species': 'HypsiboasCinerascens', 'Family': 'Hylidae'}, 3: {'Genus': 'Ameerega', 'Species': 'Ameeregatrivittata', 'Family': 'Dendrobatidae'}})\n"
     ]
    },
    {
     "name": "stderr",
     "output_type": "stream",
     "text": [
      "\n",
      " 76%|███████▌  | 38/50 [15:12<04:46, 23.86s/it]\u001b[A"
     ]
    },
    {
     "name": "stdout",
     "output_type": "stream",
     "text": [
      "('The best k is', 4)\n",
      "('Majority labels:', {0: {'Genus': 'Hypsiboas', 'Species': 'HypsiboasCordobae', 'Family': 'Hylidae'}, 1: {'Genus': 'Adenomera', 'Species': 'AdenomeraHylaedactylus', 'Family': 'Leptodactylidae'}, 2: {'Genus': 'Ameerega', 'Species': 'Ameeregatrivittata', 'Family': 'Dendrobatidae'}, 3: {'Genus': 'Hypsiboas', 'Species': 'HypsiboasCinerascens', 'Family': 'Hylidae'}})\n"
     ]
    },
    {
     "name": "stderr",
     "output_type": "stream",
     "text": [
      "\n",
      " 78%|███████▊  | 39/50 [15:37<04:22, 23.91s/it]\u001b[A"
     ]
    },
    {
     "name": "stdout",
     "output_type": "stream",
     "text": [
      "('The best k is', 4)\n",
      "('Majority labels:', {0: {'Genus': 'Ameerega', 'Species': 'Ameeregatrivittata', 'Family': 'Dendrobatidae'}, 1: {'Genus': 'Adenomera', 'Species': 'AdenomeraHylaedactylus', 'Family': 'Leptodactylidae'}, 2: {'Genus': 'Hypsiboas', 'Species': 'HypsiboasCordobae', 'Family': 'Hylidae'}, 3: {'Genus': 'Hypsiboas', 'Species': 'HypsiboasCinerascens', 'Family': 'Hylidae'}})\n"
     ]
    },
    {
     "name": "stderr",
     "output_type": "stream",
     "text": [
      "\n",
      " 80%|████████  | 40/50 [16:00<03:58, 23.90s/it]\u001b[A"
     ]
    },
    {
     "name": "stdout",
     "output_type": "stream",
     "text": [
      "('The best k is', 4)\n",
      "('Majority labels:', {0: {'Genus': 'Adenomera', 'Species': 'AdenomeraHylaedactylus', 'Family': 'Leptodactylidae'}, 1: {'Genus': 'Ameerega', 'Species': 'Ameeregatrivittata', 'Family': 'Dendrobatidae'}, 2: {'Genus': 'Hypsiboas', 'Species': 'HypsiboasCordobae', 'Family': 'Hylidae'}, 3: {'Genus': 'Hypsiboas', 'Species': 'HypsiboasCinerascens', 'Family': 'Hylidae'}})\n"
     ]
    },
    {
     "name": "stderr",
     "output_type": "stream",
     "text": [
      "\n",
      " 82%|████████▏ | 41/50 [16:24<03:35, 23.94s/it]\u001b[A"
     ]
    },
    {
     "name": "stdout",
     "output_type": "stream",
     "text": [
      "('The best k is', 4)\n",
      "('Majority labels:', {0: {'Genus': 'Ameerega', 'Species': 'Ameeregatrivittata', 'Family': 'Dendrobatidae'}, 1: {'Genus': 'Hypsiboas', 'Species': 'HypsiboasCordobae', 'Family': 'Hylidae'}, 2: {'Genus': 'Adenomera', 'Species': 'AdenomeraHylaedactylus', 'Family': 'Leptodactylidae'}, 3: {'Genus': 'Hypsiboas', 'Species': 'HypsiboasCinerascens', 'Family': 'Hylidae'}})\n"
     ]
    },
    {
     "name": "stderr",
     "output_type": "stream",
     "text": [
      "\n",
      " 84%|████████▍ | 42/50 [16:48<03:11, 23.96s/it]\u001b[A"
     ]
    },
    {
     "name": "stdout",
     "output_type": "stream",
     "text": [
      "('The best k is', 4)\n",
      "('Majority labels:', {0: {'Genus': 'Ameerega', 'Species': 'Ameeregatrivittata', 'Family': 'Dendrobatidae'}, 1: {'Genus': 'Adenomera', 'Species': 'AdenomeraHylaedactylus', 'Family': 'Leptodactylidae'}, 2: {'Genus': 'Hypsiboas', 'Species': 'HypsiboasCordobae', 'Family': 'Hylidae'}, 3: {'Genus': 'Hypsiboas', 'Species': 'HypsiboasCinerascens', 'Family': 'Hylidae'}})\n"
     ]
    },
    {
     "name": "stderr",
     "output_type": "stream",
     "text": [
      "\n",
      " 86%|████████▌ | 43/50 [17:12<02:47, 23.93s/it]\u001b[A"
     ]
    },
    {
     "name": "stdout",
     "output_type": "stream",
     "text": [
      "('The best k is', 4)\n",
      "('Majority labels:', {0: {'Genus': 'Adenomera', 'Species': 'AdenomeraHylaedactylus', 'Family': 'Leptodactylidae'}, 1: {'Genus': 'Hypsiboas', 'Species': 'HypsiboasCordobae', 'Family': 'Hylidae'}, 2: {'Genus': 'Hypsiboas', 'Species': 'HypsiboasCinerascens', 'Family': 'Hylidae'}, 3: {'Genus': 'Ameerega', 'Species': 'Ameeregatrivittata', 'Family': 'Dendrobatidae'}})\n"
     ]
    },
    {
     "name": "stderr",
     "output_type": "stream",
     "text": [
      "\n",
      " 88%|████████▊ | 44/50 [17:36<02:23, 23.91s/it]\u001b[A"
     ]
    },
    {
     "name": "stdout",
     "output_type": "stream",
     "text": [
      "('The best k is', 4)\n",
      "('Majority labels:', {0: {'Genus': 'Adenomera', 'Species': 'AdenomeraHylaedactylus', 'Family': 'Leptodactylidae'}, 1: {'Genus': 'Hypsiboas', 'Species': 'HypsiboasCinerascens', 'Family': 'Hylidae'}, 2: {'Genus': 'Hypsiboas', 'Species': 'HypsiboasCordobae', 'Family': 'Hylidae'}, 3: {'Genus': 'Ameerega', 'Species': 'Ameeregatrivittata', 'Family': 'Dendrobatidae'}})\n"
     ]
    },
    {
     "name": "stderr",
     "output_type": "stream",
     "text": [
      "\n",
      " 90%|█████████ | 45/50 [18:00<01:59, 23.96s/it]\u001b[A"
     ]
    },
    {
     "name": "stdout",
     "output_type": "stream",
     "text": [
      "('The best k is', 4)\n",
      "('Majority labels:', {0: {'Genus': 'Hypsiboas', 'Species': 'HypsiboasCinerascens', 'Family': 'Hylidae'}, 1: {'Genus': 'Adenomera', 'Species': 'AdenomeraHylaedactylus', 'Family': 'Leptodactylidae'}, 2: {'Genus': 'Ameerega', 'Species': 'Ameeregatrivittata', 'Family': 'Dendrobatidae'}, 3: {'Genus': 'Hypsiboas', 'Species': 'HypsiboasCordobae', 'Family': 'Hylidae'}})\n"
     ]
    },
    {
     "name": "stderr",
     "output_type": "stream",
     "text": [
      "\n",
      " 92%|█████████▏| 46/50 [18:24<01:35, 23.94s/it]\u001b[A"
     ]
    },
    {
     "name": "stdout",
     "output_type": "stream",
     "text": [
      "('The best k is', 4)\n",
      "('Majority labels:', {0: {'Genus': 'Hypsiboas', 'Species': 'HypsiboasCordobae', 'Family': 'Hylidae'}, 1: {'Genus': 'Adenomera', 'Species': 'AdenomeraHylaedactylus', 'Family': 'Leptodactylidae'}, 2: {'Genus': 'Ameerega', 'Species': 'Ameeregatrivittata', 'Family': 'Dendrobatidae'}, 3: {'Genus': 'Hypsiboas', 'Species': 'HypsiboasCinerascens', 'Family': 'Hylidae'}})\n"
     ]
    },
    {
     "name": "stderr",
     "output_type": "stream",
     "text": [
      "\n",
      " 94%|█████████▍| 47/50 [18:48<01:12, 24.01s/it]\u001b[A"
     ]
    },
    {
     "name": "stdout",
     "output_type": "stream",
     "text": [
      "('The best k is', 4)\n",
      "('Majority labels:', {0: {'Genus': 'Adenomera', 'Species': 'AdenomeraHylaedactylus', 'Family': 'Leptodactylidae'}, 1: {'Genus': 'Hypsiboas', 'Species': 'HypsiboasCinerascens', 'Family': 'Hylidae'}, 2: {'Genus': 'Hypsiboas', 'Species': 'HypsiboasCordobae', 'Family': 'Hylidae'}, 3: {'Genus': 'Ameerega', 'Species': 'Ameeregatrivittata', 'Family': 'Dendrobatidae'}})\n"
     ]
    },
    {
     "name": "stderr",
     "output_type": "stream",
     "text": [
      "\n",
      " 96%|█████████▌| 48/50 [19:12<00:47, 23.85s/it]\u001b[A"
     ]
    },
    {
     "name": "stdout",
     "output_type": "stream",
     "text": [
      "('The best k is', 4)\n",
      "('Majority labels:', {0: {'Genus': 'Adenomera', 'Species': 'AdenomeraHylaedactylus', 'Family': 'Leptodactylidae'}, 1: {'Genus': 'Hypsiboas', 'Species': 'HypsiboasCordobae', 'Family': 'Hylidae'}, 2: {'Genus': 'Ameerega', 'Species': 'Ameeregatrivittata', 'Family': 'Dendrobatidae'}, 3: {'Genus': 'Hypsiboas', 'Species': 'HypsiboasCinerascens', 'Family': 'Hylidae'}})\n"
     ]
    },
    {
     "name": "stderr",
     "output_type": "stream",
     "text": [
      "\n",
      " 98%|█████████▊| 49/50 [19:36<00:23, 23.88s/it]\u001b[A"
     ]
    },
    {
     "name": "stdout",
     "output_type": "stream",
     "text": [
      "('The best k is', 4)\n",
      "('Majority labels:', {0: {'Genus': 'Adenomera', 'Species': 'AdenomeraHylaedactylus', 'Family': 'Leptodactylidae'}, 1: {'Genus': 'Ameerega', 'Species': 'Ameeregatrivittata', 'Family': 'Dendrobatidae'}, 2: {'Genus': 'Hypsiboas', 'Species': 'HypsiboasCordobae', 'Family': 'Hylidae'}, 3: {'Genus': 'Hypsiboas', 'Species': 'HypsiboasCinerascens', 'Family': 'Hylidae'}})\n"
     ]
    },
    {
     "name": "stderr",
     "output_type": "stream",
     "text": [
      "\n",
      "100%|██████████| 50/50 [19:59<00:00, 23.81s/it]\u001b[A\n",
      "\u001b[A"
     ]
    },
    {
     "name": "stdout",
     "output_type": "stream",
     "text": [
      "('The best k is', 4)\n",
      "('Majority labels:', {0: {'Genus': 'Adenomera', 'Species': 'AdenomeraHylaedactylus', 'Family': 'Leptodactylidae'}, 1: {'Genus': 'Hypsiboas', 'Species': 'HypsiboasCordobae', 'Family': 'Hylidae'}, 2: {'Genus': 'Ameerega', 'Species': 'Ameeregatrivittata', 'Family': 'Dendrobatidae'}, 3: {'Genus': 'Hypsiboas', 'Species': 'HypsiboasCinerascens', 'Family': 'Hylidae'}})\n"
     ]
    }
   ],
   "source": [
    "hamming_losses = []\n",
    "X = df.iloc[:, :-4]\n",
    "\n",
    "for i in tqdm(range(50)):\n",
    "    silh = []\n",
    "    results = []\n",
    "    for k in range(2, 15):\n",
    "        kmeans = KMeans(n_clusters=k).fit(X)\n",
    "        labels = kmeans.labels_\n",
    "        results.append(labels)\n",
    "        silh.append(silhouette_score(X, labels))\n",
    "    index = np.argmax(silh)\n",
    "    best_k = index + 2\n",
    "    print(\"The best k is\", best_k)\n",
    "    best_labels = results[index]\n",
    "    \n",
    "    #decide majority labels for each k-means cluster\n",
    "    labels_df = df[['Family', 'Genus', 'Species']].copy()\n",
    "    labels_df['kmeans_label'] = best_labels\n",
    "    \n",
    "    majority = {}\n",
    "    for l in range(best_k):\n",
    "        cluster = labels_df[labels_df['kmeans_label'] == l]\n",
    "        triplet = {}\n",
    "        for tl in ['Family', 'Genus', 'Species']:\n",
    "            triplet[tl] = cluster[tl].value_counts().idxmax()\n",
    "        majority[l] = triplet\n",
    "    print(\"Majority labels:\", majority)\n",
    "    \n",
    "    #compute hamming loss\n",
    "    misclassifed = 0\n",
    "    for l in range(best_k):\n",
    "        cluster = labels_df[labels_df['kmeans_label'] == l]\n",
    "        for tl in ['Family', 'Genus', 'Species']:\n",
    "            misclassifed += sum(cluster[tl] != majority[l][tl])\n",
    "    hamming_loss = float(misclassifed) / (3 * len(df))\n",
    "    hamming_losses.append(hamming_loss)"
   ]
  },
  {
   "cell_type": "code",
   "execution_count": 38,
   "metadata": {},
   "outputs": [
    {
     "name": "stdout",
     "output_type": "stream",
     "text": [
      "('The average of hamming loss is', 0.22422052351169797)\n",
      "('The standard deviation of hamming loss is', 0.008730845482499541)\n"
     ]
    }
   ],
   "source": [
    "means = np.mean(hamming_losses)\n",
    "stds = np.std(hamming_losses)\n",
    "print(\"The average of hamming loss is\", means)\n",
    "print(\"The standard deviation of hamming loss is\", stds) "
   ]
  },
  {
   "cell_type": "markdown",
   "metadata": {
    "colab": {},
    "colab_type": "code",
    "id": "e3apEyjnUtJi"
   },
   "source": [
    "## ISLR Solution in 'islr_solutions.pdf' in the same directory."
   ]
  }
 ],
 "metadata": {
  "accelerator": "GPU",
  "colab": {
   "name": "Sub5.ipynb",
   "provenance": [],
   "version": "0.3.2"
  },
  "kernelspec": {
   "display_name": "Python 3",
   "language": "python",
   "name": "python3"
  },
  "language_info": {
   "codemirror_mode": {
    "name": "ipython",
    "version": 3
   },
   "file_extension": ".py",
   "mimetype": "text/x-python",
   "name": "python",
   "nbconvert_exporter": "python",
   "pygments_lexer": "ipython3",
   "version": "3.5.2"
  }
 },
 "nbformat": 4,
 "nbformat_minor": 1
}
