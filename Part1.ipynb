{
 "cells": [
  {
   "cell_type": "code",
   "execution_count": 2,
   "metadata": {},
   "outputs": [],
   "source": [
    "import numpy as np\n",
    "import pandas as pd\n",
    "from sklearn.calibration import CalibratedClassifierCV\n",
    "import matplotlib.pyplot as plt\n",
    "%matplotlib inline"
   ]
  },
  {
   "cell_type": "code",
   "execution_count": null,
   "metadata": {},
   "outputs": [],
   "source": [
    "from sklearn.model_selection import train_test_split\n",
    "from sklearn.svm import LinearSVC\n",
    "from sklearn.model_selection import StratifiedKFold, GridSearchCV\n",
    "from sklearn import metrics\n",
    "from sklearn.utils import shuffle\n",
    "import warnings\n",
    "warnings.filterwarnings(\"ignore\")"
   ]
  },
  {
   "cell_type": "code",
   "execution_count": null,
   "metadata": {},
   "outputs": [],
   "source": [
    "from tqdm import tqdm\n",
    "from math import log10\n",
    "from sklearn import preprocessing\n",
    "from sklearn import metrics"
   ]
  },
  {
   "cell_type": "code",
   "execution_count": 3,
   "metadata": {},
   "outputs": [],
   "source": [
    "df = pd.read_csv('wbdc.csv')\n",
    "df = df.iloc[:, 1:]"
   ]
  },
  {
   "cell_type": "code",
   "execution_count": 5,
   "metadata": {},
   "outputs": [],
   "source": [
    "df.iloc[:, 0] = df.iloc[:, 0].replace({'M' : 1, 'B' : 0})"
   ]
  },
  {
   "cell_type": "code",
   "execution_count": 6,
   "metadata": {},
   "outputs": [
    {
     "data": {
      "text/html": [
       "<div>\n",
       "<table border=\"1\" class=\"dataframe\">\n",
       "  <thead>\n",
       "    <tr style=\"text-align: right;\">\n",
       "      <th></th>\n",
       "      <th>Diagnosis</th>\n",
       "      <th>Mean Radius</th>\n",
       "      <th>Mean Texture</th>\n",
       "      <th>Mean Perimeter</th>\n",
       "      <th>Mean Area</th>\n",
       "      <th>Mean Smoothness</th>\n",
       "      <th>Mean Compactness</th>\n",
       "      <th>Mean Concavity</th>\n",
       "      <th>Mean Concave</th>\n",
       "      <th>Mean Symmetry</th>\n",
       "      <th>...</th>\n",
       "      <th>Worst Radius</th>\n",
       "      <th>Worst Texture</th>\n",
       "      <th>Worst Perimeter</th>\n",
       "      <th>Worst Area</th>\n",
       "      <th>Worst Smoothness</th>\n",
       "      <th>Worst Compactness</th>\n",
       "      <th>Worst Concavity</th>\n",
       "      <th>Worst Concave</th>\n",
       "      <th>Worst Symmetry</th>\n",
       "      <th>Worst Fractal</th>\n",
       "    </tr>\n",
       "  </thead>\n",
       "  <tbody>\n",
       "    <tr>\n",
       "      <th>0</th>\n",
       "      <td>1</td>\n",
       "      <td>17.99</td>\n",
       "      <td>10.38</td>\n",
       "      <td>122.80</td>\n",
       "      <td>1001.0</td>\n",
       "      <td>0.11840</td>\n",
       "      <td>0.27760</td>\n",
       "      <td>0.3001</td>\n",
       "      <td>0.14710</td>\n",
       "      <td>0.2419</td>\n",
       "      <td>...</td>\n",
       "      <td>25.38</td>\n",
       "      <td>17.33</td>\n",
       "      <td>184.60</td>\n",
       "      <td>2019.0</td>\n",
       "      <td>0.1622</td>\n",
       "      <td>0.6656</td>\n",
       "      <td>0.7119</td>\n",
       "      <td>0.2654</td>\n",
       "      <td>0.4601</td>\n",
       "      <td>0.11890</td>\n",
       "    </tr>\n",
       "    <tr>\n",
       "      <th>1</th>\n",
       "      <td>1</td>\n",
       "      <td>20.57</td>\n",
       "      <td>17.77</td>\n",
       "      <td>132.90</td>\n",
       "      <td>1326.0</td>\n",
       "      <td>0.08474</td>\n",
       "      <td>0.07864</td>\n",
       "      <td>0.0869</td>\n",
       "      <td>0.07017</td>\n",
       "      <td>0.1812</td>\n",
       "      <td>...</td>\n",
       "      <td>24.99</td>\n",
       "      <td>23.41</td>\n",
       "      <td>158.80</td>\n",
       "      <td>1956.0</td>\n",
       "      <td>0.1238</td>\n",
       "      <td>0.1866</td>\n",
       "      <td>0.2416</td>\n",
       "      <td>0.1860</td>\n",
       "      <td>0.2750</td>\n",
       "      <td>0.08902</td>\n",
       "    </tr>\n",
       "    <tr>\n",
       "      <th>2</th>\n",
       "      <td>1</td>\n",
       "      <td>19.69</td>\n",
       "      <td>21.25</td>\n",
       "      <td>130.00</td>\n",
       "      <td>1203.0</td>\n",
       "      <td>0.10960</td>\n",
       "      <td>0.15990</td>\n",
       "      <td>0.1974</td>\n",
       "      <td>0.12790</td>\n",
       "      <td>0.2069</td>\n",
       "      <td>...</td>\n",
       "      <td>23.57</td>\n",
       "      <td>25.53</td>\n",
       "      <td>152.50</td>\n",
       "      <td>1709.0</td>\n",
       "      <td>0.1444</td>\n",
       "      <td>0.4245</td>\n",
       "      <td>0.4504</td>\n",
       "      <td>0.2430</td>\n",
       "      <td>0.3613</td>\n",
       "      <td>0.08758</td>\n",
       "    </tr>\n",
       "    <tr>\n",
       "      <th>3</th>\n",
       "      <td>1</td>\n",
       "      <td>11.42</td>\n",
       "      <td>20.38</td>\n",
       "      <td>77.58</td>\n",
       "      <td>386.1</td>\n",
       "      <td>0.14250</td>\n",
       "      <td>0.28390</td>\n",
       "      <td>0.2414</td>\n",
       "      <td>0.10520</td>\n",
       "      <td>0.2597</td>\n",
       "      <td>...</td>\n",
       "      <td>14.91</td>\n",
       "      <td>26.50</td>\n",
       "      <td>98.87</td>\n",
       "      <td>567.7</td>\n",
       "      <td>0.2098</td>\n",
       "      <td>0.8663</td>\n",
       "      <td>0.6869</td>\n",
       "      <td>0.2575</td>\n",
       "      <td>0.6638</td>\n",
       "      <td>0.17300</td>\n",
       "    </tr>\n",
       "    <tr>\n",
       "      <th>4</th>\n",
       "      <td>1</td>\n",
       "      <td>20.29</td>\n",
       "      <td>14.34</td>\n",
       "      <td>135.10</td>\n",
       "      <td>1297.0</td>\n",
       "      <td>0.10030</td>\n",
       "      <td>0.13280</td>\n",
       "      <td>0.1980</td>\n",
       "      <td>0.10430</td>\n",
       "      <td>0.1809</td>\n",
       "      <td>...</td>\n",
       "      <td>22.54</td>\n",
       "      <td>16.67</td>\n",
       "      <td>152.20</td>\n",
       "      <td>1575.0</td>\n",
       "      <td>0.1374</td>\n",
       "      <td>0.2050</td>\n",
       "      <td>0.4000</td>\n",
       "      <td>0.1625</td>\n",
       "      <td>0.2364</td>\n",
       "      <td>0.07678</td>\n",
       "    </tr>\n",
       "  </tbody>\n",
       "</table>\n",
       "<p>5 rows × 31 columns</p>\n",
       "</div>"
      ],
      "text/plain": [
       "   Diagnosis  Mean Radius  Mean Texture  Mean Perimeter  Mean Area  \\\n",
       "0          1        17.99         10.38          122.80     1001.0   \n",
       "1          1        20.57         17.77          132.90     1326.0   \n",
       "2          1        19.69         21.25          130.00     1203.0   \n",
       "3          1        11.42         20.38           77.58      386.1   \n",
       "4          1        20.29         14.34          135.10     1297.0   \n",
       "\n",
       "   Mean Smoothness  Mean Compactness  Mean Concavity  Mean Concave  \\\n",
       "0          0.11840           0.27760          0.3001       0.14710   \n",
       "1          0.08474           0.07864          0.0869       0.07017   \n",
       "2          0.10960           0.15990          0.1974       0.12790   \n",
       "3          0.14250           0.28390          0.2414       0.10520   \n",
       "4          0.10030           0.13280          0.1980       0.10430   \n",
       "\n",
       "   Mean Symmetry      ...        Worst Radius  Worst Texture  Worst Perimeter  \\\n",
       "0         0.2419      ...               25.38          17.33           184.60   \n",
       "1         0.1812      ...               24.99          23.41           158.80   \n",
       "2         0.2069      ...               23.57          25.53           152.50   \n",
       "3         0.2597      ...               14.91          26.50            98.87   \n",
       "4         0.1809      ...               22.54          16.67           152.20   \n",
       "\n",
       "   Worst Area  Worst Smoothness  Worst Compactness  Worst Concavity  \\\n",
       "0      2019.0            0.1622             0.6656           0.7119   \n",
       "1      1956.0            0.1238             0.1866           0.2416   \n",
       "2      1709.0            0.1444             0.4245           0.4504   \n",
       "3       567.7            0.2098             0.8663           0.6869   \n",
       "4      1575.0            0.1374             0.2050           0.4000   \n",
       "\n",
       "   Worst Concave  Worst Symmetry  Worst Fractal  \n",
       "0         0.2654          0.4601        0.11890  \n",
       "1         0.1860          0.2750        0.08902  \n",
       "2         0.2430          0.3613        0.08758  \n",
       "3         0.2575          0.6638        0.17300  \n",
       "4         0.1625          0.2364        0.07678  \n",
       "\n",
       "[5 rows x 31 columns]"
      ]
     },
     "execution_count": 6,
     "metadata": {},
     "output_type": "execute_result"
    }
   ],
   "source": [
    "df.head()"
   ]
  },
  {
   "cell_type": "markdown",
   "metadata": {},
   "source": [
    "FUNCTIONS NEEDED"
   ]
  },
  {
   "cell_type": "code",
   "execution_count": 11,
   "metadata": {},
   "outputs": [],
   "source": [
    "def train_test_df(df):\n",
    "    df = shuffle(df) \n",
    "    \n",
    "    M_df = df[df['Diagnosis']==1]\n",
    "    B_df = df[df['Diagnosis']==0]\n",
    "    \n",
    "    M_test = M_df.iloc[:int(0.20*len(M_df)), :]\n",
    "    M_train = M_df.iloc[int(0.20*len(M_df)):, :]\n",
    "    \n",
    "    B_test = B_df.iloc[:int(0.20*len(B_df)), :]\n",
    "    B_train = B_df.iloc[int(0.20*len(B_df)):, :]\n",
    "    \n",
    "    train_df = pd.concat([M_train, B_train])\n",
    "    test_df = pd.concat([M_test, B_test])\n",
    "    x_train = train_df.iloc[:, 1:]\n",
    "    y_train = train_df.iloc[:, 0]\n",
    "    x_test = test_df.iloc[:, 1:]\n",
    "    y_test = test_df.iloc[:, 0]\n",
    "    return x_train, y_train, x_test, y_test"
   ]
  },
  {
   "cell_type": "markdown",
   "metadata": {},
   "source": [
    "   "
   ]
  },
  {
   "cell_type": "code",
   "execution_count": 200,
   "metadata": {},
   "outputs": [],
   "source": [
    "def roc_curve(model, X_test, y_test):\n",
    "    y_pred = model.predict_proba(X_test)[:, 1]\n",
    "    fpr, tpr, _ = metrics.roc_curve(y_test, y_pred)\n",
    "    auc_ = metrics.auc(fpr, tpr)\n",
    "\n",
    "    plt.figure(figsize=(5, 5))\n",
    "    plt.plot([0.0, 1.0], [0.0, 1.05], 'k--')\n",
    "    plt.plot(fpr, tpr, label=' (area = {:.3f})'.format(auc_))\n",
    "    plt.xlabel('False Positive rate')\n",
    "    plt.ylabel('True Positive rate')\n",
    "    plt.title('ROC Curve')\n",
    "    plt.legend(loc='lower right')\n",
    "    plt.show()"
   ]
  },
  {
   "cell_type": "code",
   "execution_count": 13,
   "metadata": {},
   "outputs": [],
   "source": [
    "def get_c_range(x_train, y_train):\n",
    "    c_ = np.logspace(-5, 8, 10)\n",
    "    scores = []\n",
    "    for c in c_:\n",
    "        svc = LinearSVC(penalty='l1', C=c, dual=False)\n",
    "        svc.fit(x_train, y_train)\n",
    "        scores.append(svc.score(x_train, y_train))\n",
    "    scores = np.array(scores)\n",
    "    ind = np.argwhere(scores > 0.9).flatten()\n",
    "    c_1 = c_[ind[0]]\n",
    "    c_2 = c_[ind[-1]]\n",
    "    return c_1, c_2"
   ]
  },
  {
   "cell_type": "code",
   "execution_count": 14,
   "metadata": {},
   "outputs": [],
   "source": [
    "def return_results(results):\n",
    "    print('Avg. Train Accuracy {}'.format(np.mean(results.iloc[:, 0])))\n",
    "    print('Avg. Train Precision {}'.format(np.mean(results.iloc[:, 1])))\n",
    "    print('Avg. Train Recall {}'.format(np.mean(results.iloc[:, 2])))\n",
    "    print('Avg. Train F-1 score {}'.format(np.mean(results.iloc[:, 3])))\n",
    "    print('Avg. Train AUC {}'.format(np.mean(results.iloc[:, 4])))\n",
    "\n",
    "    print('\\nTest Accuracy {}'.format(np.mean(results.iloc[:, 5])))\n",
    "    print('Test Precision {}'.format(np.mean(results.iloc[:, 6])))\n",
    "    print('Test Recall {}'.format(np.mean(results.iloc[:, 7])))\n",
    "    print('Test F1 Score {}'.format(np.mean(results.iloc[:, 8])))\n",
    "    print('Test AUC {}'.format(np.mean(results.iloc[:, 9])))"
   ]
  },
  {
   "cell_type": "markdown",
   "metadata": {},
   "source": [
    "i. Supervised Learning: Train an L1-penalized SVM to classify the data. Use 5 fold cross validation to choose the penalty parameter. Use normalized data. Report the average accuracy, precision, recall, F-score, and AUC, for both training and test sets over your M runs. Plot the ROC and report the confusion matrix for training and testing in one of the runs."
   ]
  },
  {
   "cell_type": "code",
   "execution_count": 198,
   "metadata": {},
   "outputs": [
    {
     "name": "stderr",
     "output_type": "stream",
     "text": [
      "\r",
      "  0%|                                                                                            | 0/1 [00:00<?, ?it/s]"
     ]
    },
    {
     "name": "stdout",
     "output_type": "stream",
     "text": [
      "Run Number 0\n",
      "Avg. Train Accuracy 0.97\n",
      "Test Accuracy 0.94\n",
      "\n",
      "For Run Number 0\n",
      "Train Confusion Matrix\n",
      "[[282   4]\n",
      " [  6 164]]\n"
     ]
    },
    {
     "data": {
      "image/png": "[encoded data removed]",
      "text/plain": [
       "<matplotlib.figure.Figure at 0x1d29f184b70>"
      ]
     },
     "metadata": {},
     "output_type": "display_data"
    },
    {
     "name": "stdout",
     "output_type": "stream",
     "text": [
      "\n",
      "Test Confusion Matrix\n",
      "[[67  4]\n",
      " [ 3 39]]\n"
     ]
    },
    {
     "data": {
      "image/png": "[encoded data removed]",
      "text/plain": [
       "<matplotlib.figure.Figure at 0x1d29f082278>"
      ]
     },
     "metadata": {},
     "output_type": "display_data"
    },
    {
     "name": "stdout",
     "output_type": "stream",
     "text": [
      "\n",
      "\n"
     ]
    },
    {
     "name": "stderr",
     "output_type": "stream",
     "text": [
      "100%|████████████████████████████████████████████████████████████████████████████████████| 1/1 [00:07<00:00,  7.29s/it]\n"
     ]
    },
    {
     "name": "stdout",
     "output_type": "stream",
     "text": [
      "Avg. Train Accuracy 0.97\n",
      "Avg. Train Precision 0.98\n",
      "Avg. Train Recall 0.94\n",
      "Avg. Train F-1 score 0.96\n",
      "Avg. Train AUC 0.99\n",
      "\n",
      "Test Accuracy 0.94\n",
      "Test Precision 0.93\n",
      "Test Recall 0.91\n",
      "Test F1 Score 0.92\n",
      "Test AUC 0.94\n"
     ]
    }
   ],
   "source": [
    "#Use normalized data. Report the average accuracy, precision, recall, F-score, and AUC, for both training and test sets \n",
    "#over your M runs. Plot the ROC and report the confusion matrix for training and testing in one of the runs.\n",
    "results1 = []\n",
    "\n",
    "for i in tqdm(range(1)):\n",
    "    print('Run Number {}'.format(i))\n",
    "    each = []\n",
    "    x_train, y_train, x_test, y_test = train_test_df(df)\n",
    "    scaler = preprocessing.Normalizer()\n",
    "    x_train_ = scaler.fit_transform(x_train)\n",
    "    x_test_ = scaler.transform(x_test)\n",
    "    \n",
    "    c_l, c_h = get_c_range(x_train_, y_train)\n",
    "    parameters = {'C':np.logspace(log10(c_l), log10(c_h), 20)}\n",
    "    \n",
    "    scoring = ['accuracy', 'precision', 'recall', 'f1', 'roc_auc']\n",
    "    \n",
    "    svc = LinearSVC(penalty='l1', dual=False)\n",
    "    kf = StratifiedKFold(n_splits=5, shuffle=True)\n",
    "    clf = GridSearchCV(svc, parameters, cv=kf, scoring=scoring, refit='roc_auc', return_train_score=True)\n",
    "    clf.fit(x_train_, y_train)\n",
    "    \n",
    "    results = clf.cv_results_\n",
    "    \n",
    "    each.append(round(np.mean(results['mean_train_accuracy']), 2))\n",
    "    each.append(round(np.mean(results['mean_train_precision']), 2))\n",
    "    each.append(round(np.mean(results['mean_train_recall']), 2))\n",
    "    each.append(round(np.mean(results['mean_train_f1']), 2))\n",
    "    each.append(round(np.mean(results['mean_train_roc_auc']), 2))\n",
    "    \n",
    "    # calculating test accuracy\n",
    "    sv = clf.best_estimator_\n",
    "    y_pred = sv.predict(x_test_)\n",
    "    \n",
    "    each.append(round(metrics.accuracy_score(y_test, y_pred), 2))\n",
    "    each.append(round(metrics.recall_score(y_test, y_pred), 2))\n",
    "    each.append(round(metrics.precision_score(y_test, y_pred), 2))\n",
    "    each.append(round(metrics.f1_score(y_test, y_pred), 2))\n",
    "    each.append(round(metrics.roc_auc_score(y_test, y_pred), 2))\n",
    "    \n",
    "    print('Avg. Train Accuracy {}'.format(round(np.mean(results['mean_train_accuracy']), 2)))\n",
    "    print('Test Accuracy {}'.format(round(metrics.accuracy_score(y_test, y_pred), 2)))\n",
    "    \n",
    "    if(i == 0):\n",
    "        print('\\nFor Run Number {}'.format(i))\n",
    "        kf = StratifiedKFold(n_splits=5, shuffle=True)\n",
    "        calib = CalibratedClassifierCV(sv, cv=kf)\n",
    "        \n",
    "        cnf_train = metrics.confusion_matrix(y_train, sv.predict(x_train_))\n",
    "        print('Train Confusion Matrix')\n",
    "        print(cnf_train)\n",
    "        calib.fit(x_train_, y_train)\n",
    "        roc_curve(calib, x_train_, y_train)\n",
    "\n",
    "        cnf_test = metrics.confusion_matrix(y_test, y_pred)\n",
    "        print('\\nTest Confusion Matrix')\n",
    "        print(cnf_test)\n",
    "        roc_curve(calib, x_test_, y_test)\n",
    "    results1.append(each)\n",
    "    print('\\n')\n",
    "\n",
    "return_results(pd.DataFrame(results1))"
   ]
  },
  {
   "cell_type": "markdown",
   "metadata": {},
   "source": [
    "   "
   ]
  },
  {
   "cell_type": "markdown",
   "metadata": {},
   "source": [
    "ii. Semi-Supervised Learning/ Self-training: select 50% of the positive\n",
    "class along with 50% of the negative class in the training set as labeled data\n",
    "and the rest as unlabelled data. You can select them randomly.   \n",
    "   \n",
    "A. Train an L1-penalized SVM to classify the labeled data Use normalized\n",
    "data. Choose the penalty parameter using 5 fold cross validation.   \n",
    "   \n",
    "B. Find the unlabeled data point that is the farthest to the decision boundary\n",
    "of the SVM. Let the SVM label it (ignore its true label), and add it to\n",
    "the labeled data, and retrain the SVM. Continue this process until all\n",
    "unlabeled data are used. Test the final SVM on the test data andthe\n",
    "average accuracy, precision, recall, F-score, and AUC, for both training\n",
    "and test sets over your M runs. Plot the ROC and report the confusion\n",
    "matrix for training and testing in one of the runs."
   ]
  },
  {
   "cell_type": "code",
   "execution_count": 18,
   "metadata": {},
   "outputs": [],
   "source": [
    "def train_test_split_df(df):\n",
    "    df = shuffle(df) \n",
    "    M_df = df[df['Diagnosis']==1]\n",
    "    B_df = df[df['Diagnosis']==0]\n",
    "    \n",
    "    M_test = M_df.iloc[:int(0.20*len(M_df)), :]\n",
    "    M_train = M_df.iloc[int(0.20*len(M_df)):, :]\n",
    "    \n",
    "    B_test = B_df.iloc[:int(0.20*len(B_df)), :]\n",
    "    B_train = B_df.iloc[int(0.20*len(B_df)):, :]\n",
    "    \n",
    "    train_df = pd.concat([M_train, B_train])\n",
    "    test_df = pd.concat([M_test, B_test])\n",
    "    return train_df, test_df"
   ]
  },
  {
   "cell_type": "code",
   "execution_count": 19,
   "metadata": {},
   "outputs": [],
   "source": [
    "def lab_unlab_split(df):\n",
    "    df = shuffle(df) \n",
    "    M_df = df[df['Diagnosis']==1]\n",
    "    B_df = df[df['Diagnosis']==0]\n",
    "    \n",
    "    M_test = M_df.iloc[:int(0.50*len(M_df)), :]\n",
    "    M_train = M_df.iloc[int(0.50*len(M_df)):, :]\n",
    "    \n",
    "    B_test = B_df.iloc[:int(0.50*len(B_df)), :]\n",
    "    B_train = B_df.iloc[int(0.50*len(B_df)):, :]\n",
    "    \n",
    "    train_df = pd.concat([M_train, B_train])\n",
    "    test_df = pd.concat([M_test, B_test])\n",
    "    x_train = train_df.iloc[:, :-1]\n",
    "    y_train = train_df.iloc[:, -1]\n",
    "    x_test = test_df.iloc[:, :-1]\n",
    "    y_test = test_df.iloc[:, -1]\n",
    "    \n",
    "    return x_train, y_train, x_test, y_test"
   ]
  },
  {
   "cell_type": "code",
   "execution_count": 20,
   "metadata": {},
   "outputs": [],
   "source": [
    "def get_farthest_points(svc, x_test_):\n",
    "    x_cols = df.columns.values[1:]\n",
    "    y_cols = df.columns.values[0]\n",
    "\n",
    "    dd = pd.DataFrame(x_test_)\n",
    "    dist = svc.decision_function(x_test_)\n",
    "    #w_norm = np.linalg.norm(svc.coef_)\n",
    "    #dist = y / w_norm\n",
    "    d = np.argmax([abs(a) for a in dist])\n",
    "    point = svc.predict([dd.iloc[d, :]])\n",
    "    \n",
    "    return dd.iloc[1,:], point"
   ]
  },
  {
   "cell_type": "code",
   "execution_count": 199,
   "metadata": {},
   "outputs": [
    {
     "name": "stderr",
     "output_type": "stream",
     "text": [
      "\r",
      "  0%|                                                                                            | 0/1 [00:00<?, ?it/s]"
     ]
    },
    {
     "name": "stdout",
     "output_type": "stream",
     "text": [
      "Run Number 0\n",
      "Avg. Train Accuracy 0.91\n",
      "Test Accuracy 0.96\n",
      "For Run Number 0\n",
      "Train Confusion Matrix\n",
      "[[284   2]\n",
      " [ 11 159]]\n"
     ]
    },
    {
     "data": {
      "image/png": "[encoded data removed]",
      "text/plain": [
       "<matplotlib.figure.Figure at 0x1d29f1846a0>"
      ]
     },
     "metadata": {},
     "output_type": "display_data"
    },
    {
     "name": "stdout",
     "output_type": "stream",
     "text": [
      "\n",
      "Test Confusion Matrix\n",
      "[[70  1]\n",
      " [ 4 38]]\n"
     ]
    },
    {
     "data": {
      "image/png": "[encoded data removed]",
      "text/plain": [
       "<matplotlib.figure.Figure at 0x1d29f0b3f98>"
      ]
     },
     "metadata": {},
     "output_type": "display_data"
    },
    {
     "name": "stdout",
     "output_type": "stream",
     "text": [
      "\n",
      "\n"
     ]
    },
    {
     "name": "stderr",
     "output_type": "stream",
     "text": [
      "100%|██████████████████████████████████████████████████████████████████████████████████| 1/1 [36:55<00:00, 2215.27s/it]\n"
     ]
    },
    {
     "name": "stdout",
     "output_type": "stream",
     "text": [
      "Avg. Train Accuracy 0.91\n",
      "Avg. Train Precision 1.0\n",
      "Avg. Train Recall 0.66\n",
      "Avg. Train F-1 score 0.79\n",
      "Avg. Train AUC 0.9\n",
      "\n",
      "Test Accuracy 0.96\n",
      "Test Precision 0.9\n",
      "Test Recall 0.97\n",
      "Test F1 Score 0.94\n",
      "Test AUC 0.95\n"
     ]
    }
   ],
   "source": [
    "#Use normalized data. Report the average accuracy, precision, recall, F-score, and AUC, for both training and test sets \n",
    "#over your M runs. Plot the ROC and report the confusion matrix for training and testing in one of the runs.\n",
    "results2 = []\n",
    "\n",
    "for i in tqdm(range(1)):\n",
    "    print('Run Number {}'.format(i))\n",
    "    each = []\n",
    "    \n",
    "    #Divide the initial df into 80-20 test-train\n",
    "    train_d, test_d = train_test_split_df(df)\n",
    "    \n",
    "    x_train_ = train_d.iloc[:, 1:]\n",
    "    y_train = train_d.iloc[:, 0]\n",
    "    x_test_ = test_d.iloc[:, 1:]\n",
    "    y_test = test_d.iloc[:, 0]\n",
    "    \n",
    "    scaler = preprocessing.Normalizer()\n",
    "    \n",
    "    train_data = pd.DataFrame(scaler.fit_transform(x_train_), columns=df.columns.values[1:])\n",
    "    test_data = pd.DataFrame(scaler.fit_transform(x_test_), columns=df.columns.values[1:])\n",
    "    \n",
    "    train_data['Diagnosis'] = [int(i) for i in y_train]\n",
    "    test_data['Diagnosis'] = [int(j) for j in y_test]\n",
    "    \n",
    "    \n",
    "    #Concat train data, and divide into 50-50 labelled and unlabelled\n",
    "    #train_data = pd.concat([x_train, y_train])\n",
    "    lab_x, lab_y, unlab_x, unlab_y = lab_unlab_split(train_data)\n",
    "    \n",
    "    for j in range(len(unlab_x) + 1):\n",
    "        #Use labelled data as your training data and unlabelled data as your test data\n",
    "        c_l, c_h = get_c_range(lab_x, lab_y)\n",
    "        parameters = {'C':np.logspace(log10(c_l), log10(c_h), 20)}\n",
    "\n",
    "        scoring = ['accuracy', 'precision', 'recall', 'f1', 'roc_auc']\n",
    "\n",
    "        svc = LinearSVC(penalty='l1', dual=False)\n",
    "        kf = StratifiedKFold(n_splits=5, shuffle=True)\n",
    "        clf = GridSearchCV(svc, parameters, cv=kf, scoring=scoring, refit='roc_auc', return_train_score=True)\n",
    "        clf.fit(lab_x, lab_y)\n",
    "\n",
    "        # calculating test accuracy\n",
    "        sv = clf.best_estimator_\n",
    "        xx, yy = get_farthest_points(sv, unlab_x)\n",
    "        lab_x = lab_x.append(pd.Series(xx))\n",
    "        lab_y = lab_y.append(pd.Series(yy))\n",
    "        \n",
    "    results = clf.cv_results_\n",
    "    \n",
    "    each.append(round(np.mean(results['mean_train_accuracy']), 2))\n",
    "    each.append(round(np.mean(results['mean_train_precision']), 2))\n",
    "    each.append(round(np.mean(results['mean_train_recall']), 2))\n",
    "    each.append(round(np.mean(results['mean_train_f1']), 2))\n",
    "    each.append(round(np.mean(results['mean_train_roc_auc']), 2))\n",
    "    \n",
    "    # calculating test accuracy\n",
    "    sv = clf.best_estimator_\n",
    "    y_pred = sv.predict(x_test)\n",
    "    \n",
    "    each.append(round(metrics.accuracy_score(y_test, y_pred), 2))\n",
    "    each.append(round(metrics.recall_score(y_test, y_pred), 2))\n",
    "    each.append(round(metrics.precision_score(y_test, y_pred), 2))\n",
    "    each.append(round(metrics.f1_score(y_test, y_pred), 2))\n",
    "    each.append(round(metrics.roc_auc_score(y_test, y_pred), 2))\n",
    "    \n",
    "    print('Avg. Train Accuracy {}'.format(round(np.mean(results['mean_train_accuracy']), 2)))\n",
    "    print('Test Accuracy {}'.format(round(metrics.accuracy_score(y_test, y_pred), 2)))\n",
    "    \n",
    "    if(i == 0):\n",
    "        print('\\nFor Run Number {}'.format(i))\n",
    "        kf = StratifiedKFold(n_splits=5, shuffle=True)\n",
    "        calib = CalibratedClassifierCV(sv, cv=kf)\n",
    "        \n",
    "        cnf_train = metrics.confusion_matrix(y_train, sv.predict(x_train))\n",
    "        print('Train Confusion Matrix')\n",
    "        print(cnf_train)\n",
    "        calib.fit(lab_x, lab_y)\n",
    "        roc_curve(calib, lab_x, lab_y)\n",
    "\n",
    "        cnf_test = metrics.confusion_matrix(y_test, y_pred)\n",
    "        print('\\nTest Confusion Matrix')\n",
    "        print(cnf_test)\n",
    "        roc_curve(calib, x_test, y_test)\n",
    "    \n",
    "    results2.append(each)\n",
    "    print('\\n')\n",
    "\n",
    "return_results(pd.DataFrame(results2))"
   ]
  },
  {
   "cell_type": "markdown",
   "metadata": {},
   "source": [
    "   "
   ]
  },
  {
   "cell_type": "markdown",
   "metadata": {},
   "source": [
    "iii. Unsupervised Learning: Run k-means algorithm on the whole training\n",
    "set. Ignore the labels of the data, and assume k = 2.   \n",
    "   \n",
    "A. Run the k-means algorithm multiple times. Make sure that you initialize\n",
    "the algoritm randomly. How do you make sure that the algorithm was\n",
    "not trapped in a local minimum?   \n",
    "   \n",
    "B. Compute the centers of the two clusters and find the closest 30 data\n",
    "points to each center. Read the true labels of those 30 data points and\n",
    "take a majority poll within them. The majority poll becomes the label\n",
    "predicted by k-means for the members of each cluster. Then compare the\n",
    "labels provided by k-means with the true labels of the training data and\n",
    "report the average accuracy, precision, recall, F-score, and AUC over M\n",
    "runs, and ROC and the confusion matrix for one of the runs.   \n",
    "   \n",
    "C. Classify test data based on their proximity to the centers of the clusters.\n",
    "Report the average accuracy, precision, recall, F-score, and AUC over M\n",
    "runs, and ROC and the confusion matrix for one of the runs for the test\n",
    "data."
   ]
  },
  {
   "cell_type": "markdown",
   "metadata": {},
   "source": [
    "  "
   ]
  },
  {
   "cell_type": "markdown",
   "metadata": {},
   "source": [
    "With the k-means algorithm, you cannot entirely avoid local minima; you can only try to minimize your chances of getting one.\n",
    "\n",
    "A common hack used by many, and the one that can be done is setting n_init = 100 is to run K-means multiple times and then choosing the run that gives the lowest error. If you run this k^n times and then choose the best out of that, then you WOULD be guaranteed you're finding a global minima, but that's too time consuming to be practical."
   ]
  },
  {
   "cell_type": "code",
   "execution_count": 16,
   "metadata": {},
   "outputs": [],
   "source": [
    "from sklearn.cluster import KMeans"
   ]
  },
  {
   "cell_type": "code",
   "execution_count": 119,
   "metadata": {},
   "outputs": [],
   "source": [
    "train_d, test_d = train_test_split_df(df)\n",
    "    \n",
    "x_train_ = train_d.iloc[:, 1:].reset_index(drop=True)\n",
    "y_train = train_d.iloc[:, 0].reset_index(drop=True)\n",
    "x_test_ = test_d.iloc[:, 1:].reset_index(drop=True)\n",
    "y_test = test_d.iloc[:, 0].reset_index(drop=True)\n",
    "\n",
    "scaler = preprocessing.Normalizer()\n",
    "    \n",
    "train_data = pd.DataFrame(scaler.fit_transform(x_train_), columns=df.columns.values[1:])\n",
    "test_data = pd.DataFrame(scaler.fit_transform(x_test_), columns=df.columns.values[1:])"
   ]
  },
  {
   "cell_type": "code",
   "execution_count": 120,
   "metadata": {},
   "outputs": [
    {
     "data": {
      "text/plain": [
       "KMeans(algorithm='auto', copy_x=True, init='random', max_iter=300,\n",
       "    n_clusters=2, n_init=50, n_jobs=1, precompute_distances='auto',\n",
       "    random_state=None, tol=0.0001, verbose=0)"
      ]
     },
     "execution_count": 120,
     "metadata": {},
     "output_type": "execute_result"
    }
   ],
   "source": [
    "kmeans = KMeans(n_clusters=2, init='random', n_init=50)\n",
    "kmeans.fit(train_data)    "
   ]
  },
  {
   "cell_type": "code",
   "execution_count": 170,
   "metadata": {},
   "outputs": [],
   "source": [
    "def kmeans_transform(kmeans, train_data):\n",
    "    k = kmeans.transform(train_data)\n",
    "    res1 = []\n",
    "    res2 = []\n",
    "\n",
    "    for i in range(len(k)):\n",
    "        each = k[i]\n",
    "        which = np.argmax(each)\n",
    "        if(which==0): res1.append([i, 'cluster1', each[0]])\n",
    "        else: res2.append([i, 'cluster2', each[1]])\n",
    "    \n",
    "    top_cluster1 = pd.DataFrame(res1).sort([2], ascending=False)[:30].iloc[:, 0].reset_index(drop=True)\n",
    "    top_cluster2 = pd.DataFrame(res2).sort([2], ascending=False)[:30].iloc[:, 0].reset_index(drop=True)\n",
    "    \n",
    "    major_cluster = {'cluster1': {'0':0, '1':0}, 'cluster2': {'0':0, '1':0}}\n",
    "    for p in top_cluster1:\n",
    "        if(y_train[p] == 0):\n",
    "            major_cluster['cluster1']['0'] += 1\n",
    "        else:\n",
    "            major_cluster['cluster1']['1'] += 1\n",
    "\n",
    "    for q in top_cluster2:\n",
    "        if(y_train[q] == 0):\n",
    "            major_cluster['cluster2']['0'] += 1\n",
    "        else:\n",
    "            major_cluster['cluster2']['1'] += 1\n",
    "            \n",
    "    clust1 = 0 if major_cluster['cluster1']['0'] > major_cluster['cluster1']['1'] else 1\n",
    "    clust2 = 0 if major_cluster['cluster2']['0'] > major_cluster['cluster2']['1'] else 1\n",
    "    \n",
    "    \"\"\"first = pd.DataFrame(res1).iloc[:, :2]\n",
    "    second = pd.DataFrame(res2).iloc[:, :2]\n",
    "    new = pd.concat([first, second]).sort([0])\n",
    "    y_pred = []\n",
    "    for l in new.iloc[:, 1]:\n",
    "        if(l == 'cluster1'): y_pred.append(clust1)\n",
    "        else: y_pred.append(clust2)\n",
    "    y_pred = np.array(y_pred).reshape(-1)\"\"\"\n",
    "    return clust1, clust2"
   ]
  },
  {
   "cell_type": "code",
   "execution_count": 162,
   "metadata": {},
   "outputs": [],
   "source": [
    "def give_scores(y_train, y_pred, y_test, y_pred_test):\n",
    "    each = []\n",
    "    each.append(round(metrics.accuracy_score(y_train, y_pred), 2))\n",
    "    each.append(round(metrics.recall_score(y_train, y_pred), 2))\n",
    "    each.append(round(metrics.precision_score(y_train, y_pred), 2))\n",
    "    each.append(round(metrics.f1_score(y_train, y_pred), 2))\n",
    "    each.append(round(metrics.roc_auc_score(y_train, y_pred), 2))\n",
    "\n",
    "    each.append(round(metrics.accuracy_score(y_test, y_pred_test), 2))\n",
    "    each.append(round(metrics.recall_score(y_test, y_pred_test), 2))\n",
    "    each.append(round(metrics.precision_score(y_test, y_pred_test), 2))\n",
    "    each.append(round(metrics.f1_score(y_test, y_pred_test), 2))\n",
    "    each.append(round(metrics.roc_auc_score(y_test, y_pred_test), 2))\n",
    "\n",
    "    return each"
   ]
  },
  {
   "cell_type": "code",
   "execution_count": 201,
   "metadata": {},
   "outputs": [
    {
     "name": "stderr",
     "output_type": "stream",
     "text": [
      "\r",
      "  0%|                                                                                            | 0/1 [00:00<?, ?it/s]"
     ]
    },
    {
     "name": "stdout",
     "output_type": "stream",
     "text": [
      "For Run Number 0\n"
     ]
    },
    {
     "name": "stderr",
     "output_type": "stream",
     "text": [
      "\n"
     ]
    },
    {
     "ename": "TypeError",
     "evalue": "fit() missing 1 required positional argument: 'y'",
     "output_type": "error",
     "traceback": [
      "\u001b[1;31m---------------------------------------------------------------------------\u001b[0m",
      "\u001b[1;31mTypeError\u001b[0m                                 Traceback (most recent call last)",
      "\u001b[1;32m<ipython-input-201-d9887b59190a>\u001b[0m in \u001b[0;36m<module>\u001b[1;34m()\u001b[0m\n\u001b[0;32m     32\u001b[0m         \u001b[0mkf\u001b[0m \u001b[1;33m=\u001b[0m \u001b[0mStratifiedKFold\u001b[0m\u001b[1;33m(\u001b[0m\u001b[0mn_splits\u001b[0m\u001b[1;33m=\u001b[0m\u001b[1;36m5\u001b[0m\u001b[1;33m,\u001b[0m \u001b[0mshuffle\u001b[0m\u001b[1;33m=\u001b[0m\u001b[1;32mTrue\u001b[0m\u001b[1;33m)\u001b[0m\u001b[1;33m\u001b[0m\u001b[0m\n\u001b[0;32m     33\u001b[0m         \u001b[0mcalib\u001b[0m \u001b[1;33m=\u001b[0m \u001b[0mCalibratedClassifierCV\u001b[0m\u001b[1;33m(\u001b[0m\u001b[0mkmeans\u001b[0m\u001b[1;33m,\u001b[0m \u001b[0mcv\u001b[0m\u001b[1;33m=\u001b[0m\u001b[0mkf\u001b[0m\u001b[1;33m)\u001b[0m\u001b[1;33m\u001b[0m\u001b[0m\n\u001b[1;32m---> 34\u001b[1;33m         \u001b[0mcalib\u001b[0m\u001b[1;33m.\u001b[0m\u001b[0mfit\u001b[0m\u001b[1;33m(\u001b[0m\u001b[0mtrain_data\u001b[0m\u001b[1;33m)\u001b[0m\u001b[1;33m\u001b[0m\u001b[0m\n\u001b[0m\u001b[0;32m     35\u001b[0m \u001b[1;33m\u001b[0m\u001b[0m\n\u001b[0;32m     36\u001b[0m         \u001b[0mcnf_train\u001b[0m \u001b[1;33m=\u001b[0m \u001b[0mmetrics\u001b[0m\u001b[1;33m.\u001b[0m\u001b[0mconfusion_matrix\u001b[0m\u001b[1;33m(\u001b[0m\u001b[0my_train\u001b[0m\u001b[1;33m,\u001b[0m \u001b[0my_pred\u001b[0m\u001b[1;33m)\u001b[0m\u001b[1;33m\u001b[0m\u001b[0m\n",
      "\u001b[1;31mTypeError\u001b[0m: fit() missing 1 required positional argument: 'y'"
     ]
    }
   ],
   "source": [
    "# report the average accuracy, precision, recall, F-score, and AUC over M runs, \n",
    "#and ROC and the confusion matrix for one of the runs.\n",
    "results3 = []\n",
    "\n",
    "for i in tqdm(range(1)):\n",
    "    #Divide the initial df into 80-20 test-train\n",
    "    train_d, test_d = train_test_split_df(df)\n",
    "    \n",
    "    x_train_ = train_d.iloc[:, 1:].reset_index(drop=True)\n",
    "    y_train = train_d.iloc[:, 0].reset_index(drop=True)\n",
    "    x_test_ = test_d.iloc[:, 1:].reset_index(drop=True)\n",
    "    y_test = test_d.iloc[:, 0].reset_index(drop=True)\n",
    "\n",
    "    #scaler = preprocessing.Normalizer()\n",
    "\n",
    "    #train_data = pd.DataFrame(scaler.fit_transform(x_train_), columns=df.columns.values[1:])\n",
    "    #test_data = pd.DataFrame(scaler.fit_transform(x_test_), columns=df.columns.values[1:])\n",
    "    train_data = x_train_\n",
    "    test_data = x_test_\n",
    "    \n",
    "    #Initiate the model\n",
    "    kmeans = KMeans(n_clusters=2, init='random', n_init=200)\n",
    "    kmeans.fit(train_data)\n",
    "    \n",
    "    clust1, clust2 = kmeans_transform(kmeans, train_data)\n",
    "    y_pred = pd.DataFrame(kmeans.predict(train_data)).replace({0:clust1, 1:clust2})\n",
    "    y_pred_test = pd.DataFrame(kmeans.predict(test_data)).replace({0:clust1, 1:clust2})\n",
    "    results3.append(give_scores(y_train, y_pred, y_test, y_pred_test))\n",
    "    \n",
    "    if(i == 0):\n",
    "        print('For Run Number {}'.format(i))\n",
    "        kf = StratifiedKFold(n_splits=5, shuffle=True)\n",
    "        calib = CalibratedClassifierCV(kmeans, cv=kf)\n",
    "        calib.fit(train_data)\n",
    "        \n",
    "        cnf_train = metrics.confusion_matrix(y_train, y_pred)\n",
    "        print('Train Confusion Matrix')\n",
    "        print(cnf_train)\n",
    "        roc_curve(calib, train_data, y_train)\n",
    "\n",
    "        cnf_test = metrics.confusion_matrix(y_test, y_pred_test)\n",
    "        print('\\nTest Confusion Matrix')\n",
    "        print(cnf_test)\n",
    "        roc_curve(calib, test_data, y_test)\n",
    "    \n",
    "return_results(pd.DataFrame(results3))"
   ]
  },
  {
   "cell_type": "markdown",
   "metadata": {},
   "source": [
    "  "
   ]
  },
  {
   "cell_type": "markdown",
   "metadata": {},
   "source": [
    "iv. Spectral Clustering: Repeat 1(b)iii using spectral clustering, which is clustering based on kernels. Research what spectral clustering is. Use RBF\n",
    "kernel."
   ]
  },
  {
   "cell_type": "code",
   "execution_count": 176,
   "metadata": {},
   "outputs": [],
   "source": [
    "from sklearn.cluster import SpectralClustering"
   ]
  },
  {
   "cell_type": "code",
   "execution_count": 177,
   "metadata": {},
   "outputs": [],
   "source": [
    "train_d, test_d = train_test_split_df(df)\n",
    "    \n",
    "x_train = train_d.iloc[:, 1:].reset_index(drop=True)\n",
    "y_train = train_d.iloc[:, 0].reset_index(drop=True)\n",
    "x_test = test_d.iloc[:, 1:].reset_index(drop=True)\n",
    "y_test = test_d.iloc[:, 0].reset_index(drop=True)"
   ]
  },
  {
   "cell_type": "code",
   "execution_count": null,
   "metadata": {},
   "outputs": [],
   "source": [
    "from sklearn.decomposition import PCA\n",
    "x_train_ = PCA().fit_transform(x_train)"
   ]
  },
  {
   "cell_type": "code",
   "execution_count": 186,
   "metadata": {},
   "outputs": [
    {
     "data": {
      "text/plain": [
       "SpectralClustering(affinity='rbf', assign_labels='kmeans', coef0=1, degree=3,\n",
       "          eigen_solver=None, eigen_tol=0.0, gamma=1.0, kernel_params=None,\n",
       "          n_clusters=5, n_init=10, n_jobs=1, n_neighbors=10,\n",
       "          random_state=2)"
      ]
     },
     "execution_count": 186,
     "metadata": {},
     "output_type": "execute_result"
    }
   ],
   "source": [
    "kern = SpectralClustering(n_clusters=5, random_state=2)\n",
    "kern.fit(x_train_)\n",
    "#DOESN'T WORK WITH 2 CLUSTERS\n",
    "#DO WE NEED TO DO THE SAME PROCEDURE AT LOOKING AT THE NEAREST \n",
    "#NEIGHBOURS AND GIVING LABELS TO THE CLUSTERS?"
   ]
  },
  {
   "cell_type": "code",
   "execution_count": 187,
   "metadata": {
    "collapsed": true
   },
   "outputs": [
    {
     "data": {
      "text/plain": [
       "array([3, 3, 3, 4, 0, 0, 3, 0, 3, 0, 3, 4, 3, 3, 0, 3, 3, 3, 0, 3, 3, 3,\n",
       "       0, 3, 3, 4, 3, 3, 3, 3, 0, 0, 3, 0, 3, 3, 4, 4, 0, 4, 0, 3, 0, 3,\n",
       "       0, 3, 3, 0, 3, 3, 3, 3, 4, 3, 3, 3, 4, 3, 3, 3, 3, 3, 3, 3, 3, 0,\n",
       "       3, 0, 3, 0, 3, 3, 3, 3, 4, 3, 3, 4, 3, 3, 3, 0, 3, 3, 0, 4, 0, 0,\n",
       "       0, 0, 3, 3, 0, 3, 3, 4, 3, 3, 3, 3, 0, 3, 0, 4, 3, 3, 0, 0, 0, 0,\n",
       "       0, 3, 0, 0, 0, 0, 3, 3, 0, 3, 0, 3, 3, 3, 3, 0, 0, 3, 0, 3, 0, 4,\n",
       "       0, 0, 3, 3, 0, 3, 3, 3, 4, 3, 0, 0, 3, 0, 0, 3, 4, 3, 3, 3, 3, 0,\n",
       "       4, 0, 3, 3, 3, 3, 0, 0, 3, 3, 0, 3, 4, 3, 0, 3, 3, 3, 3, 3, 3, 3,\n",
       "       3, 3, 3, 3, 3, 3, 3, 3, 3, 3, 3, 3, 3, 3, 3, 3, 3, 3, 3, 3, 3, 3,\n",
       "       3, 2, 3, 3, 3, 3, 3, 3, 3, 3, 3, 3, 3, 3, 3, 3, 3, 3, 3, 3, 4, 3,\n",
       "       3, 3, 3, 3, 3, 3, 3, 3, 4, 3, 3, 3, 3, 3, 3, 3, 3, 3, 3, 3, 3, 3,\n",
       "       3, 3, 3, 3, 3, 3, 3, 3, 3, 3, 3, 3, 3, 3, 3, 0, 3, 3, 3, 3, 3, 3,\n",
       "       3, 3, 3, 3, 3, 3, 3, 3, 3, 3, 3, 3, 3, 3, 0, 3, 3, 3, 3, 3, 3, 3,\n",
       "       3, 3, 3, 3, 3, 3, 3, 3, 3, 3, 3, 3, 3, 3, 0, 3, 3, 3, 3, 3, 3, 3,\n",
       "       3, 3, 3, 3, 3, 3, 3, 3, 3, 3, 3, 3, 3, 3, 3, 3, 3, 3, 3, 3, 3, 3,\n",
       "       3, 3, 3, 3, 3, 3, 3, 3, 3, 3, 1, 3, 3, 3, 3, 3, 3, 3, 3, 3, 3, 3,\n",
       "       3, 3, 3, 3, 3, 3, 3, 3, 3, 3, 3, 1, 3, 3, 3, 2, 3, 3, 3, 3, 3, 3,\n",
       "       3, 3, 3, 3, 3, 3, 3, 3, 3, 3, 3, 3, 3, 3, 3, 3, 3, 3, 3, 3, 3, 3,\n",
       "       3, 3, 3, 0, 3, 3, 3, 3, 3, 3, 3, 3, 3, 3, 3, 3, 3, 3, 3, 3, 3, 3,\n",
       "       3, 3, 3, 3, 3, 3, 3, 3, 3, 3, 3, 3, 3, 3, 3, 3, 0, 3, 3, 3, 3, 3,\n",
       "       3, 3, 3, 3, 3, 3, 3, 3, 3, 3, 3, 3, 3, 3, 3, 3])"
      ]
     },
     "execution_count": 187,
     "metadata": {},
     "output_type": "execute_result"
    }
   ],
   "source": [
    "kern.labels_"
   ]
  },
  {
   "cell_type": "markdown",
   "metadata": {},
   "source": [
    "  "
   ]
  },
  {
   "cell_type": "markdown",
   "metadata": {},
   "source": [
    "2. Active Learning Using Support Vector Machines   \n",
    "   \n",
    "(a) Download the banknote authentication Data Set from: https://archive.ics.uci.edu/ml/datasets/banknote+authentication. Choose 472 data points ran-\n",
    "domly as the test set, and the remaining 900 points as the training set. This is a\n",
    "binary classification problem."
   ]
  },
  {
   "cell_type": "markdown",
   "metadata": {},
   "source": [
    "(b) Repeat each of the following two procedures 50 times. You will have 50 errors for\n",
    "90 SVMs per each procedure.   \n",
    "   \n",
    "i. Train a SVM with a pool of 10 randomly selected data points from the training\n",
    "set using linear kernel and L1 penalty. Select the penalty parameter using\n",
    "10-fold cross validation.2 Repeat this process by adding 10 other randomly\n",
    "selected data points to the pool, until you use all the 900 points. Do NOT\n",
    "replace the samples back into the training set at each step. Calculate the\n",
    "test error for each SVM. You will have 90 SVMs that were trained using 10,\n",
    "20, 30, ... , 900 data points and their 90 test errors. You have implemented\n",
    "passive learning.   "
   ]
  },
  {
   "cell_type": "code",
   "execution_count": null,
   "metadata": {},
   "outputs": [],
   "source": []
  },
  {
   "cell_type": "markdown",
   "metadata": {},
   "source": [
    "ii. Train a SVM with a pool of 10 randomly selected data points from the training\n",
    "set3 using linear kernel and L1 penalty. Select the parameters of the SVM\n",
    "with 10-fold cross validation. Choose the 10 closest data points in the training\n",
    "set to the hyperplane of the SVM4 and add them to the pool. Do not replace\n",
    "the samples back into the training set. Train a new SVM using the pool.\n",
    "Repeat this process until all training data is used. You will have 90 SVMs\n",
    "that were trained using 10, 20, 30,..., 900 data points and their 90 test errors.\n",
    "You have implemented active learning."
   ]
  },
  {
   "cell_type": "code",
   "execution_count": null,
   "metadata": {},
   "outputs": [],
   "source": []
  },
  {
   "cell_type": "markdown",
   "metadata": {},
   "source": [
    "(c) Average the 50 test errors for each of the incrementally trained 90 SVMs in 2(b)i\n",
    "and 2(b)ii. By doing so, you are performing a Monte Carlo simulation. Plot\n",
    "average test error versus number of training instances for both active and passive\n",
    "learners on the same figure and report your conclusions. Here, you are actually\n",
    "obtaining a learning curve by Monte-Carlo simulation."
   ]
  },
  {
   "cell_type": "code",
   "execution_count": null,
   "metadata": {},
   "outputs": [],
   "source": []
  }
 ],
 "metadata": {
  "kernelspec": {
   "display_name": "Python 3",
   "language": "python",
   "name": "python3"
  },
  "language_info": {
   "codemirror_mode": {
    "name": "ipython",
    "version": 3
   },
   "file_extension": ".py",
   "mimetype": "text/x-python",
   "name": "python",
   "nbconvert_exporter": "python",
   "pygments_lexer": "ipython3",
   "version": "3.5.2"
  }
 },
 "nbformat": 4,
 "nbformat_minor": 2
}
